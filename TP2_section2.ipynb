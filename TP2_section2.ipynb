{
 "cells": [
  {
   "cell_type": "markdown",
   "id": "978a24fe-cb2e-4efc-a2e5-28e910e871d2",
   "metadata": {},
   "source": [
    "# Software Evolution - Practical Session\n",
    "## Laws of software evolution, code counting, code duplication and dependency analysis\n",
    "## Academic year 2022-2023"
   ]
  },
  {
   "cell_type": "markdown",
   "id": "57eb142c-d3ef-4d5e-94cb-d521369b384b",
   "metadata": {},
   "source": [
    "### Write your answers under the questions that are present in this notebook  \n",
    "\n",
    "### Read Section 1 and Section 2 in the provided description document before proceeding with the following section "
   ]
  },
  {
   "cell_type": "code",
   "execution_count": 23,
   "id": "55d3a082-512b-40e6-95bf-27191ea9aaaa",
   "metadata": {},
   "outputs": [],
   "source": [
    "import os\n",
    "import json\n",
    "from tqdm import tqdm\n",
    "import pandas as pd\n",
    "import numpy as np\n",
    "import matplotlib.pyplot as plt\n",
    "import subprocess\n",
    "import math\n",
    "from pandas import option_context\n",
    "from datetime import datetime\n",
    "from sklearn.linear_model import LinearRegression\n",
    "from sklearn.pipeline import make_pipeline\n",
    "from sklearn.preprocessing import PolynomialFeatures"
   ]
  },
  {
   "cell_type": "markdown",
   "id": "6d83b58e-d5ad-4004-8cc5-e4b31721bb12",
   "metadata": {},
   "source": [
    "## 2. Verifying laws of software evolution"
   ]
  },
  {
   "cell_type": "code",
   "execution_count": 31,
   "id": "0f76117a-1a18-4cb5-8ed0-3fa9cfdfc31c",
   "metadata": {},
   "outputs": [],
   "source": [
    "#Enter the path where the Eucalyptus project is present\n",
    "project_path = '../eucalyptus/'"
   ]
  },
  {
   "cell_type": "markdown",
   "id": "081450a6-87af-484c-8a64-56d49eccff80",
   "metadata": {},
   "source": [
    "### 2.1 Data prepocessing\n",
    "1. Get all the tags present in the eucalyptus project using CLOC\n",
    "2. Filter out the tags that do not correspond to official releases"
   ]
  },
  {
   "attachments": {},
   "cell_type": "markdown",
   "id": "340322a1-719b-472b-8b2a-40c974224c1c",
   "metadata": {},
   "source": [
    "Code hint:  \n",
    "To get the tags that are present in the project - \"command = f'git -C {project_path} tag -l --format=\"%(refname:short)\" | sort -r'\"   \n",
    "To read the terminal output - 'process = subprocess.Popen(command, stdout=subprocess.PIPE, shell=True)'"
   ]
  },
  {
   "cell_type": "code",
   "execution_count": 25,
   "id": "8cede273-9ee7-4e38-b340-9ad4eca08c18",
   "metadata": {},
   "outputs": [
    {
     "name": "stdout",
     "output_type": "stream",
     "text": [
      "['v4.4.2', 'v4.4.1', 'v4.4.0', 'v4.3.1.1', 'v4.3.1', 'v4.3.0.1', 'v4.3.0', 'v4.2.2', 'v4.2.1', 'v4.2.0', 'v4.1.2', 'v4.1.1', 'v4.1.0', 'v4.0.2', 'v4.0.1', 'v4.0.0', 'karmic', 'jaunty', 'ha-baseline', '3.4.2', '3.4.1', '3.4.0', '3.3.2', '3.3.1', '3.3.0.1', '3.3.0', '3.3-m6', '3.3-m5', '3.3-m4', '3.3-m3', '3.3-m2', '3.3-m1', '3.2.2', '3.2.1', '3.2.0', '3.1.2', '3.1.1', '3.1.0', '3.1-beta1', '3.1-alpha2', '3.0.1', '3.0.0', '3.0-rc3', '3.0-rc2', '3.0-rc1', '3.0-beta6', '3.0-beta5', '3.0-beta4', '3.0-beta3', '3.0-beta2', '3.0-alpha1', '2.0.1', '2.0.0', '2.0-branch', '2.0-beta', '1.6.1', '1.5.2', '1.5.1', '1.5.0', '1.4', '1.0-beta']\n"
     ]
    }
   ],
   "source": [
    "command = f'git -C {project_path} tag -l --format=\"%(refname:short)\" | sort -r'\n",
    "process = subprocess.Popen(command, stdout=subprocess.PIPE, shell=True)\n",
    "all_tags = list(line.strip().decode(\"utf-8\") for line in process.stdout)\n",
    "print(all_tags)"
   ]
  },
  {
   "cell_type": "code",
   "execution_count": 26,
   "id": "e8ed2aea-5e29-4cfa-82fa-f43e233fb5ee",
   "metadata": {},
   "outputs": [],
   "source": [
    "# Your tag filtering code here\n",
    "major_minor_patch_versions = ['1.4','1.5.0','1.5.1','1.5.2','1.6.1','2.0.0','2.0.1','3.0.0','3.0.1','3.1.0','3.1.1','3.1.2','3.2.0','3.2.1',\n",
    "                              '3.2.2','3.3.0','3.3.1','3.3.2','3.4.0','3.4.1','3.4.2','v4.0.0','v4.0.1','v4.0.2','v4.1.0','v4.1.1','v4.1.2',\n",
    "                              'v4.2.0','v4.2.1','v4.2.2','v4.3.0','v4.3.1','v4.4.0','v4.4.1','v4.4.2']\n",
    "major_minor_versions = ['1.4','1.5.0','1.6.1','2.0.0','3.0.0','3.1.0','3.2.0','3.3.0','3.4.0','v4.0.0','v4.1.0','v4.2.0','v4.3.0','v4.4.0']"
   ]
  },
  {
   "cell_type": "markdown",
   "id": "aca20a9c-4269-42e0-82d0-ff33d9fe9b30",
   "metadata": {},
   "source": [
    "### 2.2 Law of Increasing Growth\n",
    "1. Fetch the required data (lines of code, blank lines, comment lines and number of files) for each tag along with their release date using CLOC\n",
    "2. Separate the data as following (also mentioned in section 2.1 of the description document)  \n",
    "    a) Consider all the three-component versions (major.minor.patch) - Dataset A  \n",
    "    b) Consider only the minor versions (major.minor) - Dataset B  \n",
    "\n",
    "Note: For example, if there exists any tag like 2.1.0.1, then you can consider it as 2.1.0 provided such a tag does not exist in the data. If both 2.1.0 and 2.1.0.1 exists, then you can ignore the latter "
   ]
  },
  {
   "cell_type": "markdown",
   "id": "cbab47f1-933d-4b28-8a35-f7c3e82cd15c",
   "metadata": {},
   "source": [
    "Code hint:  \n",
    "To set the project to a required tag - \"command = f'git -C {project_path} reset --hard {tag}'\"  \n",
    "For each tag, pass the command to the terminal, invoke cloc tool to get the necessary data in the required format (json, md,...), read the terminal output and store the data"
   ]
  },
  {
   "cell_type": "code",
   "execution_count": 27,
   "id": "f722fc93-4221-4ece-91e0-d521ddc84987",
   "metadata": {},
   "outputs": [
    {
     "name": "stdout",
     "output_type": "stream",
     "text": [
      "Reset to 1.4 done\n"
     ]
    },
    {
     "name": "stderr",
     "output_type": "stream",
     "text": [
      "fatal: Unable to create '/Users/hugo/MASTER_I/Q2/SOFTWARE_EVOLUTION/TP/LAB2/eucalyptus/.git/index.lock': File exists.\n",
      "\n",
      "Another git process seems to be running in this repository, e.g.\n",
      "an editor opened by 'git commit'. Please make sure all processes\n",
      "are terminated then try again. If it still fails, a git process\n",
      "may have crashed in this repository earlier:\n",
      "remove the file manually to continue.\n"
     ]
    },
    {
     "name": "stdout",
     "output_type": "stream",
     "text": [
      "HEAD is now at 7183c5b286 from CVS\n",
      "\n",
      "Reset to 1.5.0 done\n",
      "\n",
      "Reset to 1.5.1 done\n",
      "\n",
      "Reset to 1.5.2 done\n",
      "\n",
      "Reset to 1.6.1 done\n",
      "\n",
      "Reset to 2.0.0 done\n",
      "\n",
      "Reset to 2.0.1 done\n",
      "\n",
      "Reset to 3.0.0 done\n",
      "\n",
      "Reset to 3.0.1 done\n",
      "\n",
      "Reset to 3.1.0 done\n",
      "\n",
      "Reset to 3.1.1 done\n",
      "\n",
      "Reset to 3.1.2 done\n",
      "\n",
      "Reset to 3.2.0 done\n",
      "\n",
      "Reset to 3.2.1 done\n"
     ]
    },
    {
     "name": "stderr",
     "output_type": "stream",
     "text": [
      "fatal: Unable to create '/Users/hugo/MASTER_I/Q2/SOFTWARE_EVOLUTION/TP/LAB2/eucalyptus/.git/index.lock': File exists.\n",
      "\n",
      "Another git process seems to be running in this repository, e.g.\n",
      "an editor opened by 'git commit'. Please make sure all processes\n",
      "are terminated then try again. If it still fails, a git process\n",
      "may have crashed in this repository earlier:\n",
      "remove the file manually to continue.\n",
      "fatal: Unable to create '/Users/hugo/MASTER_I/Q2/SOFTWARE_EVOLUTION/TP/LAB2/eucalyptus/.git/index.lock': File exists.\n",
      "\n",
      "Another git process seems to be running in this repository, e.g.\n",
      "an editor opened by 'git commit'. Please make sure all processes\n",
      "are terminated then try again. If it still fails, a git process\n",
      "may have crashed in this repository earlier:\n",
      "remove the file manually to continue.\n",
      "fatal: Unable to create '/Users/hugo/MASTER_I/Q2/SOFTWARE_EVOLUTION/TP/LAB2/eucalyptus/.git/index.lock': File exists.\n",
      "\n",
      "Another git process seems to be running in this repository, e.g.\n",
      "an editor opened by 'git commit'. Please make sure all processes\n",
      "are terminated then try again. If it still fails, a git process\n",
      "may have crashed in this repository earlier:\n",
      "remove the file manually to continue.\n",
      "fatal: Unable to create '/Users/hugo/MASTER_I/Q2/SOFTWARE_EVOLUTION/TP/LAB2/eucalyptus/.git/index.lock': File exists.\n",
      "\n",
      "Another git process seems to be running in this repository, e.g.\n",
      "an editor opened by 'git commit'. Please make sure all processes\n",
      "are terminated then try again. If it still fails, a git process\n",
      "may have crashed in this repository earlier:\n",
      "remove the file manually to continue.\n",
      "fatal: Unable to create '/Users/hugo/MASTER_I/Q2/SOFTWARE_EVOLUTION/TP/LAB2/eucalyptus/.git/index.lock': File exists.\n",
      "\n",
      "Another git process seems to be running in this repository, e.g.\n",
      "an editor opened by 'git commit'. Please make sure all processes\n",
      "are terminated then try again. If it still fails, a git process\n",
      "may have crashed in this repository earlier:\n",
      "remove the file manually to continue.\n",
      "fatal: Unable to create '/Users/hugo/MASTER_I/Q2/SOFTWARE_EVOLUTION/TP/LAB2/eucalyptus/.git/index.lock': File exists.\n",
      "\n",
      "Another git process seems to be running in this repository, e.g.\n",
      "an editor opened by 'git commit'. Please make sure all processes\n",
      "are terminated then try again. If it still fails, a git process\n",
      "may have crashed in this repository earlier:\n",
      "remove the file manually to continue.\n",
      "fatal: Unable to create '/Users/hugo/MASTER_I/Q2/SOFTWARE_EVOLUTION/TP/LAB2/eucalyptus/.git/index.lock': File exists.\n",
      "\n",
      "Another git process seems to be running in this repository, e.g.\n",
      "an editor opened by 'git commit'. Please make sure all processes\n",
      "are terminated then try again. If it still fails, a git process\n",
      "may have crashed in this repository earlier:\n",
      "remove the file manually to continue.\n",
      "fatal: Unable to create '/Users/hugo/MASTER_I/Q2/SOFTWARE_EVOLUTION/TP/LAB2/eucalyptus/.git/index.lock': File exists.\n",
      "\n",
      "Another git process seems to be running in this repository, e.g.\n",
      "an editor opened by 'git commit'. Please make sure all processes\n",
      "are terminated then try again. If it still fails, a git process\n",
      "may have crashed in this repository earlier:\n",
      "remove the file manually to continue.\n",
      "fatal: Unable to create '/Users/hugo/MASTER_I/Q2/SOFTWARE_EVOLUTION/TP/LAB2/eucalyptus/.git/index.lock': File exists.\n",
      "\n",
      "Another git process seems to be running in this repository, e.g.\n",
      "an editor opened by 'git commit'. Please make sure all processes\n",
      "are terminated then try again. If it still fails, a git process\n",
      "may have crashed in this repository earlier:\n",
      "remove the file manually to continue.\n",
      "fatal: Unable to create '/Users/hugo/MASTER_I/Q2/SOFTWARE_EVOLUTION/TP/LAB2/eucalyptus/.git/index.lock': File exists.\n",
      "\n",
      "Another git process seems to be running in this repository, e.g.\n",
      "an editor opened by 'git commit'. Please make sure all processes\n",
      "are terminated then try again. If it still fails, a git process\n",
      "may have crashed in this repository earlier:\n",
      "remove the file manually to continue.\n",
      "fatal: Unable to create '/Users/hugo/MASTER_I/Q2/SOFTWARE_EVOLUTION/TP/LAB2/eucalyptus/.git/index.lock': File exists.\n",
      "\n",
      "Another git process seems to be running in this repository, e.g.\n",
      "an editor opened by 'git commit'. Please make sure all processes\n",
      "are terminated then try again. If it still fails, a git process\n",
      "may have crashed in this repository earlier:\n",
      "remove the file manually to continue.\n",
      "fatal: Unable to create '/Users/hugo/MASTER_I/Q2/SOFTWARE_EVOLUTION/TP/LAB2/eucalyptus/.git/index.lock': File exists.\n",
      "\n",
      "Another git process seems to be running in this repository, e.g.\n",
      "an editor opened by 'git commit'. Please make sure all processes\n",
      "are terminated then try again. If it still fails, a git process\n",
      "may have crashed in this repository earlier:\n",
      "remove the file manually to continue.\n",
      "fatal: Unable to create '/Users/hugo/MASTER_I/Q2/SOFTWARE_EVOLUTION/TP/LAB2/eucalyptus/.git/index.lock': File exists.\n",
      "\n",
      "Another git process seems to be running in this repository, e.g.\n",
      "an editor opened by 'git commit'. Please make sure all processes\n",
      "are terminated then try again. If it still fails, a git process\n",
      "may have crashed in this repository earlier:\n",
      "remove the file manually to continue.\n",
      "fatal: Unable to create '/Users/hugo/MASTER_I/Q2/SOFTWARE_EVOLUTION/TP/LAB2/eucalyptus/.git/index.lock': File exists.\n",
      "\n",
      "Another git process seems to be running in this repository, e.g.\n",
      "an editor opened by 'git commit'. Please make sure all processes\n",
      "are terminated then try again. If it still fails, a git process\n",
      "may have crashed in this repository earlier:\n",
      "remove the file manually to continue.\n",
      "fatal: Unable to create '/Users/hugo/MASTER_I/Q2/SOFTWARE_EVOLUTION/TP/LAB2/eucalyptus/.git/index.lock': File exists.\n",
      "\n",
      "Another git process seems to be running in this repository, e.g.\n",
      "an editor opened by 'git commit'. Please make sure all processes\n",
      "are terminated then try again. If it still fails, a git process\n",
      "may have crashed in this repository earlier:\n",
      "remove the file manually to continue.\n",
      "fatal: Unable to create '/Users/hugo/MASTER_I/Q2/SOFTWARE_EVOLUTION/TP/LAB2/eucalyptus/.git/index.lock': File exists.\n",
      "\n",
      "Another git process seems to be running in this repository, e.g.\n",
      "an editor opened by 'git commit'. Please make sure all processes\n",
      "are terminated then try again. If it still fails, a git process\n",
      "may have crashed in this repository earlier:\n",
      "remove the file manually to continue.\n",
      "fatal: Unable to create '/Users/hugo/MASTER_I/Q2/SOFTWARE_EVOLUTION/TP/LAB2/eucalyptus/.git/index.lock': File exists.\n",
      "\n",
      "Another git process seems to be running in this repository, e.g.\n",
      "an editor opened by 'git commit'. Please make sure all processes\n",
      "are terminated then try again. If it still fails, a git process\n",
      "may have crashed in this repository earlier:\n",
      "remove the file manually to continue.\n",
      "fatal: Unable to create '/Users/hugo/MASTER_I/Q2/SOFTWARE_EVOLUTION/TP/LAB2/eucalyptus/.git/index.lock': File exists.\n",
      "\n",
      "Another git process seems to be running in this repository, e.g.\n",
      "an editor opened by 'git commit'. Please make sure all processes\n",
      "are terminated then try again. If it still fails, a git process\n",
      "may have crashed in this repository earlier:\n",
      "remove the file manually to continue.\n",
      "fatal: Unable to create '/Users/hugo/MASTER_I/Q2/SOFTWARE_EVOLUTION/TP/LAB2/eucalyptus/.git/index.lock': File exists.\n",
      "\n",
      "Another git process seems to be running in this repository, e.g.\n",
      "an editor opened by 'git commit'. Please make sure all processes\n",
      "are terminated then try again. If it still fails, a git process\n",
      "may have crashed in this repository earlier:\n",
      "remove the file manually to continue.\n",
      "fatal: Unable to create '/Users/hugo/MASTER_I/Q2/SOFTWARE_EVOLUTION/TP/LAB2/eucalyptus/.git/index.lock': File exists.\n",
      "\n",
      "Another git process seems to be running in this repository, e.g.\n",
      "an editor opened by 'git commit'. Please make sure all processes\n",
      "are terminated then try again. If it still fails, a git process\n",
      "may have crashed in this repository earlier:\n",
      "remove the file manually to continue.\n",
      "fatal: Unable to create '/Users/hugo/MASTER_I/Q2/SOFTWARE_EVOLUTION/TP/LAB2/eucalyptus/.git/index.lock': File exists.\n",
      "\n",
      "Another git process seems to be running in this repository, e.g.\n",
      "an editor opened by 'git commit'. Please make sure all processes\n",
      "are terminated then try again. If it still fails, a git process\n",
      "may have crashed in this repository earlier:\n",
      "remove the file manually to continue.\n",
      "fatal: Unable to create '/Users/hugo/MASTER_I/Q2/SOFTWARE_EVOLUTION/TP/LAB2/eucalyptus/.git/index.lock': File exists.\n",
      "\n",
      "Another git process seems to be running in this repository, e.g.\n",
      "an editor opened by 'git commit'. Please make sure all processes\n",
      "are terminated then try again. If it still fails, a git process\n",
      "may have crashed in this repository earlier:\n",
      "remove the file manually to continue.\n",
      "fatal: Unable to create '/Users/hugo/MASTER_I/Q2/SOFTWARE_EVOLUTION/TP/LAB2/eucalyptus/.git/index.lock': File exists.\n",
      "\n",
      "Another git process seems to be running in this repository, e.g.\n",
      "an editor opened by 'git commit'. Please make sure all processes\n",
      "are terminated then try again. If it still fails, a git process\n",
      "may have crashed in this repository earlier:\n",
      "remove the file manually to continue.\n",
      "fatal: Unable to create '/Users/hugo/MASTER_I/Q2/SOFTWARE_EVOLUTION/TP/LAB2/eucalyptus/.git/index.lock': File exists.\n",
      "\n",
      "Another git process seems to be running in this repository, e.g.\n",
      "an editor opened by 'git commit'. Please make sure all processes\n",
      "are terminated then try again. If it still fails, a git process\n",
      "may have crashed in this repository earlier:\n",
      "remove the file manually to continue.\n"
     ]
    },
    {
     "name": "stdout",
     "output_type": "stream",
     "text": [
      "\n",
      "Reset to 3.2.2 done\n",
      "\n",
      "Reset to 3.3.0 done\n",
      "\n",
      "Reset to 3.3.1 done\n",
      "\n",
      "Reset to 3.3.2 done\n",
      "\n",
      "Reset to 3.4.0 done\n",
      "\n",
      "Reset to 3.4.1 done\n",
      "\n",
      "Reset to 3.4.2 done\n",
      "\n",
      "Reset to v4.0.0 done\n",
      "\n",
      "Reset to v4.0.1 done\n",
      "\n",
      "Reset to v4.0.2 done\n",
      "\n",
      "Reset to v4.1.0 done\n",
      "\n",
      "Reset to v4.1.1 done\n",
      "\n",
      "Reset to v4.1.2 done\n"
     ]
    },
    {
     "name": "stderr",
     "output_type": "stream",
     "text": [
      "fatal: Unable to create '/Users/hugo/MASTER_I/Q2/SOFTWARE_EVOLUTION/TP/LAB2/eucalyptus/.git/index.lock': File exists.\n",
      "\n",
      "Another git process seems to be running in this repository, e.g.\n",
      "an editor opened by 'git commit'. Please make sure all processes\n",
      "are terminated then try again. If it still fails, a git process\n",
      "may have crashed in this repository earlier:\n",
      "remove the file manually to continue.\n",
      "fatal: Unable to create '/Users/hugo/MASTER_I/Q2/SOFTWARE_EVOLUTION/TP/LAB2/eucalyptus/.git/index.lock': File exists.\n",
      "\n",
      "Another git process seems to be running in this repository, e.g.\n",
      "an editor opened by 'git commit'. Please make sure all processes\n",
      "are terminated then try again. If it still fails, a git process\n",
      "may have crashed in this repository earlier:\n",
      "remove the file manually to continue.\n",
      "fatal: Unable to create '/Users/hugo/MASTER_I/Q2/SOFTWARE_EVOLUTION/TP/LAB2/eucalyptus/.git/index.lock': File exists.\n",
      "\n",
      "Another git process seems to be running in this repository, e.g.\n",
      "an editor opened by 'git commit'. Please make sure all processes\n",
      "are terminated then try again. If it still fails, a git process\n",
      "may have crashed in this repository earlier:\n",
      "remove the file manually to continue.\n",
      "fatal: Unable to create '/Users/hugo/MASTER_I/Q2/SOFTWARE_EVOLUTION/TP/LAB2/eucalyptus/.git/index.lock': File exists.\n",
      "\n",
      "Another git process seems to be running in this repository, e.g.\n",
      "an editor opened by 'git commit'. Please make sure all processes\n",
      "are terminated then try again. If it still fails, a git process\n",
      "may have crashed in this repository earlier:\n",
      "remove the file manually to continue.\n",
      "fatal: Unable to create '/Users/hugo/MASTER_I/Q2/SOFTWARE_EVOLUTION/TP/LAB2/eucalyptus/.git/index.lock': File exists.\n",
      "\n",
      "Another git process seems to be running in this repository, e.g.\n",
      "an editor opened by 'git commit'. Please make sure all processes\n",
      "are terminated then try again. If it still fails, a git process\n",
      "may have crashed in this repository earlier:\n",
      "remove the file manually to continue.\n",
      "fatal: Unable to create '/Users/hugo/MASTER_I/Q2/SOFTWARE_EVOLUTION/TP/LAB2/eucalyptus/.git/index.lock': File exists.\n",
      "\n",
      "Another git process seems to be running in this repository, e.g.\n",
      "an editor opened by 'git commit'. Please make sure all processes\n",
      "are terminated then try again. If it still fails, a git process\n",
      "may have crashed in this repository earlier:\n",
      "remove the file manually to continue.\n",
      "fatal: Unable to create '/Users/hugo/MASTER_I/Q2/SOFTWARE_EVOLUTION/TP/LAB2/eucalyptus/.git/index.lock': File exists.\n",
      "\n",
      "Another git process seems to be running in this repository, e.g.\n",
      "an editor opened by 'git commit'. Please make sure all processes\n",
      "are terminated then try again. If it still fails, a git process\n",
      "may have crashed in this repository earlier:\n",
      "remove the file manually to continue.\n",
      "fatal: Unable to create '/Users/hugo/MASTER_I/Q2/SOFTWARE_EVOLUTION/TP/LAB2/eucalyptus/.git/index.lock': File exists.\n",
      "\n",
      "Another git process seems to be running in this repository, e.g.\n",
      "an editor opened by 'git commit'. Please make sure all processes\n",
      "are terminated then try again. If it still fails, a git process\n",
      "may have crashed in this repository earlier:\n",
      "remove the file manually to continue.\n",
      "fatal: Unable to create '/Users/hugo/MASTER_I/Q2/SOFTWARE_EVOLUTION/TP/LAB2/eucalyptus/.git/index.lock': File exists.\n",
      "\n",
      "Another git process seems to be running in this repository, e.g.\n",
      "an editor opened by 'git commit'. Please make sure all processes\n",
      "are terminated then try again. If it still fails, a git process\n",
      "may have crashed in this repository earlier:\n",
      "remove the file manually to continue.\n",
      "fatal: Unable to create '/Users/hugo/MASTER_I/Q2/SOFTWARE_EVOLUTION/TP/LAB2/eucalyptus/.git/index.lock': File exists.\n",
      "\n",
      "Another git process seems to be running in this repository, e.g.\n",
      "an editor opened by 'git commit'. Please make sure all processes\n",
      "are terminated then try again. If it still fails, a git process\n",
      "may have crashed in this repository earlier:\n",
      "remove the file manually to continue.\n",
      "fatal: Unable to create '/Users/hugo/MASTER_I/Q2/SOFTWARE_EVOLUTION/TP/LAB2/eucalyptus/.git/index.lock': File exists.\n",
      "\n",
      "Another git process seems to be running in this repository, e.g.\n",
      "an editor opened by 'git commit'. Please make sure all processes\n",
      "are terminated then try again. If it still fails, a git process\n",
      "may have crashed in this repository earlier:\n",
      "remove the file manually to continue.\n",
      "fatal: Unable to create '/Users/hugo/MASTER_I/Q2/SOFTWARE_EVOLUTION/TP/LAB2/eucalyptus/.git/index.lock': File exists.\n",
      "\n",
      "Another git process seems to be running in this repository, e.g.\n",
      "an editor opened by 'git commit'. Please make sure all processes\n",
      "are terminated then try again. If it still fails, a git process\n",
      "may have crashed in this repository earlier:\n",
      "remove the file manually to continue.\n",
      "fatal: Unable to create '/Users/hugo/MASTER_I/Q2/SOFTWARE_EVOLUTION/TP/LAB2/eucalyptus/.git/index.lock': File exists.\n",
      "\n",
      "Another git process seems to be running in this repository, e.g.\n",
      "an editor opened by 'git commit'. Please make sure all processes\n",
      "are terminated then try again. If it still fails, a git process\n",
      "may have crashed in this repository earlier:\n",
      "remove the file manually to continue.\n",
      "fatal: Unable to create '/Users/hugo/MASTER_I/Q2/SOFTWARE_EVOLUTION/TP/LAB2/eucalyptus/.git/index.lock': File exists.\n",
      "\n",
      "Another git process seems to be running in this repository, e.g.\n",
      "an editor opened by 'git commit'. Please make sure all processes\n",
      "are terminated then try again. If it still fails, a git process\n",
      "may have crashed in this repository earlier:\n",
      "remove the file manually to continue.\n",
      "fatal: Unable to create '/Users/hugo/MASTER_I/Q2/SOFTWARE_EVOLUTION/TP/LAB2/eucalyptus/.git/index.lock': File exists.\n",
      "\n",
      "Another git process seems to be running in this repository, e.g.\n",
      "an editor opened by 'git commit'. Please make sure all processes\n",
      "are terminated then try again. If it still fails, a git process\n",
      "may have crashed in this repository earlier:\n",
      "remove the file manually to continue.\n",
      "fatal: Unable to create '/Users/hugo/MASTER_I/Q2/SOFTWARE_EVOLUTION/TP/LAB2/eucalyptus/.git/index.lock': File exists.\n",
      "\n",
      "Another git process seems to be running in this repository, e.g.\n",
      "an editor opened by 'git commit'. Please make sure all processes\n",
      "are terminated then try again. If it still fails, a git process\n",
      "may have crashed in this repository earlier:\n",
      "remove the file manually to continue.\n",
      "fatal: Unable to create '/Users/hugo/MASTER_I/Q2/SOFTWARE_EVOLUTION/TP/LAB2/eucalyptus/.git/index.lock': File exists.\n",
      "\n",
      "Another git process seems to be running in this repository, e.g.\n",
      "an editor opened by 'git commit'. Please make sure all processes\n",
      "are terminated then try again. If it still fails, a git process\n",
      "may have crashed in this repository earlier:\n",
      "remove the file manually to continue.\n",
      "fatal: Unable to create '/Users/hugo/MASTER_I/Q2/SOFTWARE_EVOLUTION/TP/LAB2/eucalyptus/.git/index.lock': File exists.\n",
      "\n",
      "Another git process seems to be running in this repository, e.g.\n",
      "an editor opened by 'git commit'. Please make sure all processes\n",
      "are terminated then try again. If it still fails, a git process\n",
      "may have crashed in this repository earlier:\n",
      "remove the file manually to continue.\n",
      "fatal: Unable to create '/Users/hugo/MASTER_I/Q2/SOFTWARE_EVOLUTION/TP/LAB2/eucalyptus/.git/index.lock': File exists.\n",
      "\n",
      "Another git process seems to be running in this repository, e.g.\n",
      "an editor opened by 'git commit'. Please make sure all processes\n",
      "are terminated then try again. If it still fails, a git process\n",
      "may have crashed in this repository earlier:\n",
      "remove the file manually to continue.\n",
      "fatal: Unable to create '/Users/hugo/MASTER_I/Q2/SOFTWARE_EVOLUTION/TP/LAB2/eucalyptus/.git/index.lock': File exists.\n",
      "\n",
      "Another git process seems to be running in this repository, e.g.\n",
      "an editor opened by 'git commit'. Please make sure all processes\n",
      "are terminated then try again. If it still fails, a git process\n",
      "may have crashed in this repository earlier:\n",
      "remove the file manually to continue.\n",
      "fatal: Unable to create '/Users/hugo/MASTER_I/Q2/SOFTWARE_EVOLUTION/TP/LAB2/eucalyptus/.git/index.lock': File exists.\n",
      "\n",
      "Another git process seems to be running in this repository, e.g.\n",
      "an editor opened by 'git commit'. Please make sure all processes\n",
      "are terminated then try again. If it still fails, a git process\n",
      "may have crashed in this repository earlier:\n",
      "remove the file manually to continue.\n",
      "fatal: Unable to create '/Users/hugo/MASTER_I/Q2/SOFTWARE_EVOLUTION/TP/LAB2/eucalyptus/.git/index.lock': File exists.\n",
      "\n",
      "Another git process seems to be running in this repository, e.g.\n",
      "an editor opened by 'git commit'. Please make sure all processes\n",
      "are terminated then try again. If it still fails, a git process\n",
      "may have crashed in this repository earlier:\n",
      "remove the file manually to continue.\n",
      "fatal: Unable to create '/Users/hugo/MASTER_I/Q2/SOFTWARE_EVOLUTION/TP/LAB2/eucalyptus/.git/index.lock': File exists.\n",
      "\n",
      "Another git process seems to be running in this repository, e.g.\n",
      "an editor opened by 'git commit'. Please make sure all processes\n",
      "are terminated then try again. If it still fails, a git process\n",
      "may have crashed in this repository earlier:\n",
      "remove the file manually to continue.\n",
      "fatal: Unable to create '/Users/hugo/MASTER_I/Q2/SOFTWARE_EVOLUTION/TP/LAB2/eucalyptus/.git/index.lock': File exists.\n",
      "\n",
      "Another git process seems to be running in this repository, e.g.\n",
      "an editor opened by 'git commit'. Please make sure all processes\n",
      "are terminated then try again. If it still fails, a git process\n",
      "may have crashed in this repository earlier:\n",
      "remove the file manually to continue.\n",
      "fatal: Unable to create '/Users/hugo/MASTER_I/Q2/SOFTWARE_EVOLUTION/TP/LAB2/eucalyptus/.git/index.lock': File exists.\n",
      "\n",
      "Another git process seems to be running in this repository, e.g.\n",
      "an editor opened by 'git commit'. Please make sure all processes\n",
      "are terminated then try again. If it still fails, a git process\n",
      "may have crashed in this repository earlier:\n",
      "remove the file manually to continue.\n",
      "fatal: Unable to create '/Users/hugo/MASTER_I/Q2/SOFTWARE_EVOLUTION/TP/LAB2/eucalyptus/.git/index.lock': File exists.\n",
      "\n",
      "Another git process seems to be running in this repository, e.g.\n",
      "an editor opened by 'git commit'. Please make sure all processes\n",
      "are terminated then try again. If it still fails, a git process\n",
      "may have crashed in this repository earlier:\n",
      "remove the file manually to continue.\n"
     ]
    },
    {
     "name": "stdout",
     "output_type": "stream",
     "text": [
      "\n",
      "Reset to v4.2.0 done\n",
      "\n",
      "Reset to v4.2.1 done\n",
      "\n",
      "Reset to v4.2.2 done\n",
      "\n",
      "Reset to v4.3.0 done\n",
      "\n",
      "Reset to v4.3.1 done\n",
      "\n",
      "Reset to v4.4.0 done\n",
      "\n",
      "Reset to v4.4.1 done\n",
      "\n",
      "Reset to v4.4.2 done\n",
      "\n"
     ]
    },
    {
     "name": "stderr",
     "output_type": "stream",
     "text": [
      "fatal: Unable to create '/Users/hugo/MASTER_I/Q2/SOFTWARE_EVOLUTION/TP/LAB2/eucalyptus/.git/index.lock': File exists.\n",
      "\n",
      "Another git process seems to be running in this repository, e.g.\n",
      "an editor opened by 'git commit'. Please make sure all processes\n",
      "are terminated then try again. If it still fails, a git process\n",
      "may have crashed in this repository earlier:\n",
      "remove the file manually to continue.\n",
      "fatal: Unable to create '/Users/hugo/MASTER_I/Q2/SOFTWARE_EVOLUTION/TP/LAB2/eucalyptus/.git/index.lock': File exists.\n",
      "\n",
      "Another git process seems to be running in this repository, e.g.\n",
      "an editor opened by 'git commit'. Please make sure all processes\n",
      "are terminated then try again. If it still fails, a git process\n",
      "may have crashed in this repository earlier:\n",
      "remove the file manually to continue.\n",
      "fatal: Unable to create '/Users/hugo/MASTER_I/Q2/SOFTWARE_EVOLUTION/TP/LAB2/eucalyptus/.git/index.lock': File exists.\n",
      "\n",
      "Another git process seems to be running in this repository, e.g.\n",
      "an editor opened by 'git commit'. Please make sure all processes\n",
      "are terminated then try again. If it still fails, a git process\n",
      "may have crashed in this repository earlier:\n",
      "remove the file manually to continue.\n",
      "fatal: Unable to create '/Users/hugo/MASTER_I/Q2/SOFTWARE_EVOLUTION/TP/LAB2/eucalyptus/.git/index.lock': File exists.\n",
      "\n",
      "Another git process seems to be running in this repository, e.g.\n",
      "an editor opened by 'git commit'. Please make sure all processes\n",
      "are terminated then try again. If it still fails, a git process\n",
      "may have crashed in this repository earlier:\n",
      "remove the file manually to continue.\n",
      "fatal: Unable to create '/Users/hugo/MASTER_I/Q2/SOFTWARE_EVOLUTION/TP/LAB2/eucalyptus/.git/index.lock': File exists.\n",
      "\n",
      "Another git process seems to be running in this repository, e.g.\n",
      "an editor opened by 'git commit'. Please make sure all processes\n",
      "are terminated then try again. If it still fails, a git process\n",
      "may have crashed in this repository earlier:\n",
      "remove the file manually to continue.\n",
      "fatal: Unable to create '/Users/hugo/MASTER_I/Q2/SOFTWARE_EVOLUTION/TP/LAB2/eucalyptus/.git/index.lock': File exists.\n",
      "\n",
      "Another git process seems to be running in this repository, e.g.\n",
      "an editor opened by 'git commit'. Please make sure all processes\n",
      "are terminated then try again. If it still fails, a git process\n",
      "may have crashed in this repository earlier:\n",
      "remove the file manually to continue.\n",
      "fatal: Unable to create '/Users/hugo/MASTER_I/Q2/SOFTWARE_EVOLUTION/TP/LAB2/eucalyptus/.git/index.lock': File exists.\n",
      "\n",
      "Another git process seems to be running in this repository, e.g.\n",
      "an editor opened by 'git commit'. Please make sure all processes\n",
      "are terminated then try again. If it still fails, a git process\n",
      "may have crashed in this repository earlier:\n",
      "remove the file manually to continue.\n",
      "fatal: Unable to create '/Users/hugo/MASTER_I/Q2/SOFTWARE_EVOLUTION/TP/LAB2/eucalyptus/.git/index.lock': File exists.\n",
      "\n",
      "Another git process seems to be running in this repository, e.g.\n",
      "an editor opened by 'git commit'. Please make sure all processes\n",
      "are terminated then try again. If it still fails, a git process\n",
      "may have crashed in this repository earlier:\n",
      "remove the file manually to continue.\n",
      "fatal: Unable to create '/Users/hugo/MASTER_I/Q2/SOFTWARE_EVOLUTION/TP/LAB2/eucalyptus/.git/index.lock': File exists.\n",
      "\n",
      "Another git process seems to be running in this repository, e.g.\n",
      "an editor opened by 'git commit'. Please make sure all processes\n",
      "are terminated then try again. If it still fails, a git process\n",
      "may have crashed in this repository earlier:\n",
      "remove the file manually to continue.\n",
      "fatal: Unable to create '/Users/hugo/MASTER_I/Q2/SOFTWARE_EVOLUTION/TP/LAB2/eucalyptus/.git/index.lock': File exists.\n",
      "\n",
      "Another git process seems to be running in this repository, e.g.\n",
      "an editor opened by 'git commit'. Please make sure all processes\n",
      "are terminated then try again. If it still fails, a git process\n",
      "may have crashed in this repository earlier:\n",
      "remove the file manually to continue.\n",
      "fatal: Unable to create '/Users/hugo/MASTER_I/Q2/SOFTWARE_EVOLUTION/TP/LAB2/eucalyptus/.git/index.lock': File exists.\n",
      "\n",
      "Another git process seems to be running in this repository, e.g.\n",
      "an editor opened by 'git commit'. Please make sure all processes\n",
      "are terminated then try again. If it still fails, a git process\n",
      "may have crashed in this repository earlier:\n",
      "remove the file manually to continue.\n",
      "fatal: Unable to create '/Users/hugo/MASTER_I/Q2/SOFTWARE_EVOLUTION/TP/LAB2/eucalyptus/.git/index.lock': File exists.\n",
      "\n",
      "Another git process seems to be running in this repository, e.g.\n",
      "an editor opened by 'git commit'. Please make sure all processes\n",
      "are terminated then try again. If it still fails, a git process\n",
      "may have crashed in this repository earlier:\n",
      "remove the file manually to continue.\n",
      "fatal: Unable to create '/Users/hugo/MASTER_I/Q2/SOFTWARE_EVOLUTION/TP/LAB2/eucalyptus/.git/index.lock': File exists.\n",
      "\n",
      "Another git process seems to be running in this repository, e.g.\n",
      "an editor opened by 'git commit'. Please make sure all processes\n",
      "are terminated then try again. If it still fails, a git process\n",
      "may have crashed in this repository earlier:\n",
      "remove the file manually to continue.\n",
      "fatal: Unable to create '/Users/hugo/MASTER_I/Q2/SOFTWARE_EVOLUTION/TP/LAB2/eucalyptus/.git/index.lock': File exists.\n",
      "\n",
      "Another git process seems to be running in this repository, e.g.\n",
      "an editor opened by 'git commit'. Please make sure all processes\n",
      "are terminated then try again. If it still fails, a git process\n",
      "may have crashed in this repository earlier:\n",
      "remove the file manually to continue.\n",
      "fatal: Unable to create '/Users/hugo/MASTER_I/Q2/SOFTWARE_EVOLUTION/TP/LAB2/eucalyptus/.git/index.lock': File exists.\n",
      "\n",
      "Another git process seems to be running in this repository, e.g.\n",
      "an editor opened by 'git commit'. Please make sure all processes\n",
      "are terminated then try again. If it still fails, a git process\n",
      "may have crashed in this repository earlier:\n",
      "remove the file manually to continue.\n"
     ]
    }
   ],
   "source": [
    "for tag in major_minor_patch_versions:\n",
    "    command = f'git -C {project_path} reset --hard {tag}'\n",
    "    process = subprocess.Popen(command, stdout=subprocess.PIPE, shell=True)\n",
    "    print(f\"Reset to {tag} done\")\n",
    "    cloc_command = f'cloc {project_path} --json'\n",
    "    process = subprocess.Popen(command, stdout=subprocess.PIPE, shell=True)\n",
    "    output = process.communicate()[0].decode(\"utf-8\")\n",
    "    print(output)\n",
    "\n",
    "#Does not work on my machine (Mac M1)\n",
    "    "
   ]
  },
  {
   "cell_type": "code",
   "execution_count": 28,
   "id": "aefb6d51-33bb-4a0c-95ea-aac4f62c3366",
   "metadata": {},
   "outputs": [
    {
     "ename": "NameError",
     "evalue": "name 'project_path' is not defined",
     "output_type": "error",
     "traceback": [
      "\u001b[0;31m---------------------------------------------------------------------------\u001b[0m",
      "\u001b[0;31mNameError\u001b[0m                                 Traceback (most recent call last)",
      "\u001b[1;32m/Users/hugo/MASTER_I/Q2/SOFTWARE_EVOLUTION/TP/LAB2/Software_evolution_TP2_2023/TP2_section2.ipynb Cellule 13\u001b[0m in \u001b[0;36m<cell line: 1>\u001b[0;34m()\u001b[0m\n\u001b[0;32m----> <a href='vscode-notebook-cell:/Users/hugo/MASTER_I/Q2/SOFTWARE_EVOLUTION/TP/LAB2/Software_evolution_TP2_2023/TP2_section2.ipynb#X15sZmlsZQ%3D%3D?line=0'>1</a>\u001b[0m command \u001b[39m=\u001b[39m \u001b[39mf\u001b[39m\u001b[39m'\u001b[39m\u001b[39mgit -C \u001b[39m\u001b[39m{\u001b[39;00mproject_path\u001b[39m}\u001b[39;00m\u001b[39m tag -l --format=\u001b[39m\u001b[39m\"\u001b[39m\u001b[39m%(refname:short)|%(creatordate:short)\u001b[39m\u001b[39m\"\u001b[39m\u001b[39m | sort -r\u001b[39m\u001b[39m'\u001b[39m \u001b[39m# to get the release date\u001b[39;00m\n\u001b[1;32m      <a href='vscode-notebook-cell:/Users/hugo/MASTER_I/Q2/SOFTWARE_EVOLUTION/TP/LAB2/Software_evolution_TP2_2023/TP2_section2.ipynb#X15sZmlsZQ%3D%3D?line=1'>2</a>\u001b[0m process \u001b[39m=\u001b[39m subprocess\u001b[39m.\u001b[39mPopen(command, stdout\u001b[39m=\u001b[39msubprocess\u001b[39m.\u001b[39mPIPE, shell\u001b[39m=\u001b[39m\u001b[39mTrue\u001b[39;00m)\n",
      "\u001b[0;31mNameError\u001b[0m: name 'project_path' is not defined"
     ]
    },
    {
     "name": "stderr",
     "output_type": "stream",
     "text": [
      "Updating files: 100% (4854/4854), done.\n"
     ]
    }
   ],
   "source": [
    "command = f'git -C {project_path} tag -l --format=\"%(refname:short)|%(creatordate:short)\" | sort -r' # to get the release date\n",
    "process = subprocess.Popen(command, stdout=subprocess.PIPE, shell=True)\n",
    "# Your code to obtain the release date of each tag and combine it with the data obtained in the previous cell. Final data should have\n",
    "# #lines of code, #comments, #files, #blanks, #release date"
   ]
  },
  {
   "cell_type": "code",
   "execution_count": null,
   "id": "c9d32893-d57a-4edc-b1e7-1825b64ae9c9",
   "metadata": {},
   "outputs": [],
   "source": [
    "# Your code here to get the versions of the form major.minor "
   ]
  },
  {
   "cell_type": "code",
   "execution_count": null,
   "id": "1b8ba85a-ea94-4cc3-980e-46d42f59ef0e",
   "metadata": {},
   "outputs": [],
   "source": [
    "# Your code here to get the versions of the form major.minor.patch"
   ]
  },
  {
   "cell_type": "markdown",
   "id": "5635bd4d-979b-44a2-ae4a-1962b170445a",
   "metadata": {},
   "source": [
    "#### Visualization\n",
    "1. x-axis = version, y-axis = number  \n",
    "    i) for tags of the type major.minor.patch  \n",
    "    ii) for tags of the type major.minor  \n",
    "\n",
    "2. x-axis = date, y-axis = number  \n",
    "    i) for tags of the type major.minor.patch  \n",
    "    ii) for tags of the type major.minor  \n",
    "\n",
    "For easy comparison, place the plots with the versions on x-axis should be on the top (0,0) and (1,0) and their corresponding plots with date on the x-axis right below them (1,0) and (1,1) "
   ]
  },
  {
   "cell_type": "code",
   "execution_count": null,
   "id": "aacb1093",
   "metadata": {},
   "outputs": [
    {
     "data": {
      "text/plain": [
       "<AxesSubplot:title={'center':'Number of files'}, xlabel='major.minor'>"
      ]
     },
     "execution_count": 37,
     "metadata": {},
     "output_type": "execute_result"
    },
    {
     "data": {
      "image/png": "[encoded data removed]",
      "text/plain": [
       "<Figure size 432x288 with 4 Axes>"
      ]
     },
     "metadata": {
      "needs_background": "light"
     },
     "output_type": "display_data"
    }
   ],
   "source": [
    "fig,axes = plt.subplots(2,2)\n",
    "\n",
    "df = pd.read_csv('LIG_major_minor.csv', index_col=0)\n",
    "#df2 = pd.read_csv('LIG_major_minor_patch.csv', index_col=0)\n",
    "\n",
    "df.plot(x='major.minor', y='nb_code', ax=axes[0,0], title='Number of code lines')\n",
    "df.plot(x='major.minor', y='nb_comment', ax=axes[0,1], title='Number of comment lines')\n",
    "df.plot(x='major.minor', y='nb_blank', ax=axes[1,0], title='Number of blank lines')\n",
    "df.plot(x='major.minor', y='nb_nfiles', ax=axes[1,1], title='Number of files')\n"
   ]
  },
  {
   "cell_type": "code",
   "execution_count": null,
   "id": "2a81a137",
   "metadata": {},
   "outputs": [
    {
     "data": {
      "text/plain": [
       "<AxesSubplot:title={'center':'Number of files'}, xlabel='major.minor.patch'>"
      ]
     },
     "execution_count": 38,
     "metadata": {},
     "output_type": "execute_result"
    },
    {
     "data": {
      "image/png": "[encoded data removed]",
      "text/plain": [
       "<Figure size 432x288 with 4 Axes>"
      ]
     },
     "metadata": {
      "needs_background": "light"
     },
     "output_type": "display_data"
    }
   ],
   "source": [
    "fig,axes = plt.subplots(2,2)\n",
    "\n",
    "#df = pd.read_csv('LIG_major_minor.csv', index_col=0)\n",
    "df = pd.read_csv('LIG_major_minor_patch.csv', index_col=0)\n",
    "\n",
    "df.plot(x='major.minor.patch', y='nb_code', ax=axes[0,0], title='Number of code lines')\n",
    "df.plot(x='major.minor.patch', y='nb_comment', ax=axes[0,1], title='Number of comment lines')\n",
    "df.plot(x='major.minor.patch', y='nb_blank', ax=axes[1,0], title='Number of blank lines')\n",
    "df.plot(x='major.minor.patch', y='nb_nfiles', ax=axes[1,1], title='Number of files')\n"
   ]
  },
  {
   "cell_type": "markdown",
   "id": "8774bc4c-9131-425d-b8d2-9d0940e48f6c",
   "metadata": {},
   "source": [
    "### Questions:\n",
    "1. Do you find any difference between the plot that is having date in the x-axis and the plot that is having tag in the x-axis? If yes, then what is the difference? If no, then why is it same?"
   ]
  },
  {
   "attachments": {},
   "cell_type": "markdown",
   "id": "b03dae7d-de25-4146-baf6-d8bfd2419549",
   "metadata": {},
   "source": [
    "the only difference is that we are not checking the same thing, so the results are different. In the first case we are checking the date, which can have a big difference between two pushs, and the tags, where the difference is smaller."
   ]
  },
  {
   "cell_type": "markdown",
   "id": "edf025c5-9edc-440d-9bee-5dbdf20431bc",
   "metadata": {},
   "source": [
    "2. Which type of plot is preferable for software evolution analysis?   \n",
    "    a) date in x-axis  \n",
    "    b) tag in x-axis  \n",
    "Why?"
   ]
  },
  {
   "attachments": {},
   "cell_type": "markdown",
   "id": "ea949023-d96b-4fdd-9027-d453bdf51e99",
   "metadata": {},
   "source": [
    "The date in x-axis is preferable because it is more accurate and we can see the evolution of the project more clearly"
   ]
  },
  {
   "cell_type": "markdown",
   "id": "6110bbae-e381-43ec-9a51-72bf941e3ced",
   "metadata": {},
   "source": [
    "3. Choose an option regarding the growth of the software by considering Dataset A. Motivate your choice using a 1d regression plot (below).  \n",
    "    a) Linear  \n",
    "    b) Sub-linear  \n",
    "    c) Super-linear  "
   ]
  },
  {
   "attachments": {},
   "cell_type": "markdown",
   "id": "cb637502-7b6c-4eb2-8b9e-6cc2f3793031",
   "metadata": {},
   "source": [
    "it is linear"
   ]
  },
  {
   "cell_type": "code",
   "execution_count": null,
   "id": "1b3a1dc2-2030-4f14-bf05-147628c7dd65",
   "metadata": {},
   "outputs": [
    {
     "data": {
      "text/plain": [
       "<AxesSubplot:xlabel='relative_day', ylabel='nb_nfiles'>"
      ]
     },
     "execution_count": 48,
     "metadata": {},
     "output_type": "execute_result"
    },
    {
     "data": {
      "image/png": "[encoded data removed]",
      "text/plain": [
       "<Figure size 504x504 with 1 Axes>"
      ]
     },
     "metadata": {
      "needs_background": "light"
     },
     "output_type": "display_data"
    }
   ],
   "source": [
    "plt.figure(figsize=(7,7))\n",
    "# Your code for regression plot\n",
    "\n",
    "import seaborn as sns\n",
    "sns.regplot(x='relative_day', y='nb_code', data=df)\n",
    "sns.regplot(x='relative_day', y='nb_comment', data=df)\n",
    "sns.regplot(x='relative_day', y='nb_blank', data=df)\n",
    "sns.regplot(x='relative_day', y='nb_nfiles', data=df)\n",
    "\n"
   ]
  },
  {
   "cell_type": "markdown",
   "id": "c7cc92a4-8386-4359-b041-ce267552a09a",
   "metadata": {},
   "source": [
    "### Correlation \n",
    "Correlation is generally used to analyse the relationship between variables. Here, analyse the relationship between the number of lines of code and the number of files using Spearman correlation and Pearson correlation by considering Dataset A. Report the correlation upto 3 decimal places"
   ]
  },
  {
   "cell_type": "code",
   "execution_count": null,
   "id": "70749ee7-78a8-4344-90cb-2ff0b6a0572f",
   "metadata": {},
   "outputs": [
    {
     "name": "stdout",
     "output_type": "stream",
     "text": [
      "Spearman correlation: 0.977\n",
      "Pearson correlation: 0.993\n"
     ]
    }
   ],
   "source": [
    "spearman_corr = df['nb_code'].corr(df['nb_nfiles'], method='spearman')\n",
    "pearson_corr = df['nb_code'].corr(df['nb_nfiles'], method='pearson')\n",
    "print(f\"Spearman correlation: {spearman_corr:.3f}\")\n",
    "print(f\"Pearson correlation: {pearson_corr:.3f}\")\n"
   ]
  },
  {
   "cell_type": "markdown",
   "id": "3e8f82aa-ce42-4355-8de1-916e371f5af2",
   "metadata": {},
   "source": [
    "### Questions:\n",
    "4. Do you find any difference in correlation values between Pearson and Spearman? Which one is preferable for this use case? why?"
   ]
  },
  {
   "attachments": {},
   "cell_type": "markdown",
   "id": "b6e1599e-113c-4bfa-9c0b-eac18aae3a27",
   "metadata": {},
   "source": [
    "There is a difference between the two correlation values, but the difference is not very big. The pearson correlation is preferable because it is more accurate."
   ]
  },
  {
   "cell_type": "markdown",
   "id": "fb9a8312-20fd-41f7-875e-668761a998a6",
   "metadata": {},
   "source": [
    "5. Based on the above correlation value, how much is the number of lines of code related to the number of files?"
   ]
  },
  {
   "attachments": {},
   "cell_type": "markdown",
   "id": "4ebe75dc-cb80-469b-909d-ca4293365f25",
   "metadata": {},
   "source": [
    "Based on the correlation value, the number of lines of code is not related to the number of files 0.993."
   ]
  },
  {
   "cell_type": "markdown",
   "id": "72e2ea6c-cb13-4dae-8666-ed599c928efe",
   "metadata": {},
   "source": [
    "### Prediction\n",
    "Consider Dataset A for this task. Drop the last two data points in \"number of lines of code\" (LOC) (i.e. drop (LOC) corresponding to v4.4.1 and v4.4.2) and forecast the values for (LOC) for v4.4.1 and v4.4.2 using a basic linear/polynimial regression model.\n",
    "1. Drop the last two data points\n",
    "2. Build a basic regression model\n",
    "3. Ask the model to forecast the next two data points\n",
    "4. Plot the LOC original and forecasted in the same plot. x-axis = date, y-axis = number of lines of code"
   ]
  },
  {
   "cell_type": "code",
   "execution_count": null,
   "id": "1a8b2e38-2975-439e-81d3-8c6dc46ccab9",
   "metadata": {},
   "outputs": [],
   "source": [
    "# Your code here\n",
    "#Drop the last two data points\n",
    "df = df.drop(df.index[-2:])"
   ]
  },
  {
   "cell_type": "code",
   "execution_count": null,
   "id": "e6141273-c4f5-44a9-ac5d-a548b7a7a189",
   "metadata": {},
   "outputs": [
    {
     "data": {
      "image/png": "[encoded data removed]",
      "text/plain": [
       "<Figure size 504x504 with 1 Axes>"
      ]
     },
     "metadata": {
      "needs_background": "light"
     },
     "output_type": "display_data"
    }
   ],
   "source": [
    "# Build a basic regression model\n",
    "degree = 2\n",
    "polyreg = make_pipeline(PolynomialFeatures(degree), LinearRegression())\n",
    "#LinearRegressionModel = LinearRegression()\n",
    "#LinearRegressionModel.fit(X,y)\n",
    "\n",
    "X = df['relative_day'].values.reshape(-1,1)\n",
    "y = df['nb_code'].values.reshape(-1,1)\n",
    "polyreg.fit(X, y)\n",
    "\n",
    "\n",
    "#plot the regression line\n",
    "plt.figure(figsize=(7,7))\n",
    "plt.scatter(X, y, color='blue')\n",
    "plt.plot(X, polyreg.predict(X), color='red')\n",
    "plt.xlabel('Relative day')\n",
    "plt.ylabel('Number of code lines')\n",
    "plt.title('Number of code lines vs. relative day')\n",
    "plt.show()\n"
   ]
  },
  {
   "cell_type": "code",
   "execution_count": null,
   "id": "7db7464c-88d3-492d-9078-42e899757af2",
   "metadata": {},
   "outputs": [
    {
     "name": "stdout",
     "output_type": "stream",
     "text": [
      "Forecast for 4.4.1: [[531523.79796498]]\n",
      "Forecast for 4.4.2: [[541307.44211962]]\n"
     ]
    }
   ],
   "source": [
    "#forecast relative day 3044 and 3158, the ones that we dropped\n",
    "print(f\"Forecast for 4.4.1: {polyreg.predict([[3044]])}\")\n",
    "print(f\"Forecast for 4.4.2: {polyreg.predict([[3158]])}\")\n"
   ]
  },
  {
   "cell_type": "code",
   "execution_count": null,
   "id": "e67d1b02-fc45-480a-8e03-d9a291636a33",
   "metadata": {},
   "outputs": [
    {
     "data": {
      "text/plain": [
       "Text(0, 0.5, 'Number of code lines')"
      ]
     },
     "execution_count": 105,
     "metadata": {},
     "output_type": "execute_result"
    },
    {
     "data": {
      "image/png": "[encoded data removed]",
      "text/plain": [
       "<Figure size 504x504 with 1 Axes>"
      ]
     },
     "metadata": {
      "needs_background": "light"
     },
     "output_type": "display_data"
    }
   ],
   "source": [
    "#plot the original data and the forecasted data\n",
    "plt.figure(figsize=(7,7))\n",
    "plt.scatter(X,y)\n",
    "plt.plot(X, polyreg.predict(X), color='red')\n",
    "plt.scatter(3044, polyreg.predict([[3044]]), color='green')\n",
    "plt.scatter(3158, polyreg.predict([[3158]]), color='green')\n",
    "plt.xlabel('Relative day')\n",
    "plt.ylabel('Number of code lines')\n"
   ]
  },
  {
   "cell_type": "code",
   "execution_count": null,
   "id": "76735f90",
   "metadata": {},
   "outputs": [
    {
     "name": "stdout",
     "output_type": "stream",
     "text": [
      "y_old_1: 532915\n",
      "y_old_2: 533292\n",
      "y_new_1: 551411\n",
      "y_new_2: 566326\n",
      "R-squared error: -20168.665\n",
      "Mean squared error: 26770.760\n"
     ]
    }
   ],
   "source": [
    "#Compute R-squared error\n",
    "from sklearn.metrics import r2_score\n",
    "\n",
    "y_old_1 = 532915 #old value for 4.4.1\n",
    "y_old_2 = 533292 #old value for 4.4.2\n",
    "y_new_1 = polyreg.predict([[3044]]) #new value for 4.4.1\n",
    "y_new_2 = polyreg.predict([[3158]]) #new value for 4.4.2\n",
    "\n",
    "#Convert y_new to a integer\n",
    "y_new_1 = int(y_new_1)\n",
    "y_new_2 = int(y_new_2)\n",
    "\n",
    "#print the y_old_1, y_old_2, y_new_1, y_new_2\n",
    "print(f\"y_old_1: {y_old_1}\")\n",
    "print(f\"y_old_2: {y_old_2}\")\n",
    "print(f\"y_new_1: {y_new_1}\")\n",
    "print(f\"y_new_2: {y_new_2}\")\n",
    "\n",
    "\n",
    "#Compute the R-squared error between the old and new values\n",
    "r2_score_old = r2_score([y_old_1, y_old_2], [y_new_1, y_new_2])\n",
    "print(f\"R-squared error: {r2_score_old:.3f}\")\n",
    "\n",
    "#Compute the mean squared error between the old and new values\n",
    "from sklearn.metrics import mean_squared_error\n",
    "mean_squared_error_old = mean_squared_error([y_old_1, y_old_2], [y_new_1, y_new_2])\n",
    "mean_squared_error_old = np.sqrt(mean_squared_error_old)\n",
    "print(f\"Mean squared error: {mean_squared_error_old:.3f}\")\n"
   ]
  },
  {
   "cell_type": "markdown",
   "id": "8bdd2798-1e93-4beb-8339-4e408d3c39c2",
   "metadata": {},
   "source": [
    "### Questions:\n",
    "6. What is the polynomial degree that you adopted to build the model? Why? "
   ]
  },
  {
   "attachments": {},
   "cell_type": "markdown",
   "id": "f3c421f9-c6f2-4350-8ded-a70a974c86d0",
   "metadata": {},
   "source": [
    "We choose a degree of 2 because it is the best fit for the data. "
   ]
  },
  {
   "cell_type": "markdown",
   "id": "6a98e16e-1114-4f4b-9867-3f60019ee45f",
   "metadata": {},
   "source": [
    "7. What is the coefficient of determination? (R-squared)"
   ]
  },
  {
   "attachments": {},
   "cell_type": "markdown",
   "id": "0954e7aa-cedd-4f1b-bce2-7793c0cf04c7",
   "metadata": {},
   "source": [
    "The value whe obtained is a bit strange and we don't know why (-20168.665)"
   ]
  },
  {
   "cell_type": "markdown",
   "id": "e621e18e-26a2-4cf5-ab5c-162d87b5889d",
   "metadata": {},
   "source": [
    "8. What is the Root mean square error for the forecasted values?"
   ]
  },
  {
   "attachments": {},
   "cell_type": "markdown",
   "id": "e9e7d092-76af-470a-b85b-563ae5613cf8",
   "metadata": {},
   "source": [
    "The value obtained is 26770.760"
   ]
  },
  {
   "cell_type": "markdown",
   "id": "393f2a07-2dd7-4ab3-86c7-0b0ba07f046b",
   "metadata": {},
   "source": [
    "### Filtering on coding langugage"
   ]
  },
  {
   "cell_type": "markdown",
   "id": "76c3ed66-711b-4f01-af30-dac4f927bc88",
   "metadata": {},
   "source": [
    "Consider the prominent langugages used in this software project and plot the distribution of their LOC in a pie chart for the first and the last versions"
   ]
  },
  {
   "cell_type": "code",
   "execution_count": 41,
   "id": "9fb22e22-5b37-4a67-9d43-dab4121fa83d",
   "metadata": {},
   "outputs": [],
   "source": [
    "# Your code to get the data for LOC of first and last versions\n",
    "def extract_all_loc(tags, add_code=True, add_comment=True, add_blank=True):\n",
    "    df = []\n",
    "    for i, tag in enumerate(tags):\n",
    "        print(f'Processing {tag} ({i+1}/{len(tags)})', end='\\r')\n",
    "        # reset the repository to the specified tag\n",
    "\n",
    "        command = f'git -C {project_path} reset --hard {tag}'\n",
    "        process = subprocess.Popen(command, stdout=subprocess.PIPE, shell=True)\n",
    "        # reset the repository to the specified tag\n",
    "        command = f'git -C {project_path} tag -l --format=\"%(refname:short)|%(creatordate:short)\" | sort -r' # to get the release date\n",
    "        process = subprocess.Popen(command, stdout=subprocess.PIPE, shell=True)\n",
    "        \n",
    "        release_date = list(line.strip().decode('utf-8') for line in process.stdout)\n",
    "        for value in release_date:\n",
    "            if value.startswith(tag):\n",
    "                release_date = value.split('|')[1]\n",
    "                break\n",
    "        release_date = datetime.strptime(release_date, '%Y-%m-%d')\n",
    "                \n",
    "        command = f'cloc --json {project_path}'\n",
    "        process = subprocess.Popen(command, stdout=subprocess.PIPE, shell=True)\n",
    "        \n",
    "        output = process.communicate()[0].decode('utf-8')\n",
    "        \n",
    "        value = {'release date': release_date, 'tag': tag}\n",
    "        for key, data in json.loads(output).items():\n",
    "            if 'code' in data:\n",
    "                value[key] = 0\n",
    "                if add_code:\n",
    "                    value[key] += data['code']\n",
    "                if add_comment:\n",
    "                    value[key] += data['comment']\n",
    "                if add_blank:\n",
    "                    value[key] += data['blank']\n",
    "        df.append(value)\n",
    "\n",
    "    res = pd.DataFrame(df)\n",
    "    return res.fillna(0)"
   ]
  },
  {
   "cell_type": "code",
   "execution_count": 42,
   "id": "dc14b7fe-b4d2-423c-b9c8-b79eb498ef3c",
   "metadata": {},
   "outputs": [
    {
     "name": "stdout",
     "output_type": "stream",
     "text": [
      "Processing v4.1.0 (25/35)\r"
     ]
    },
    {
     "name": "stderr",
     "output_type": "stream",
     "text": [
      "\n",
      "1 error:\n",
      "Line count, exceeded timeout:  ../eucalyptus/net/globalnetwork.c\n"
     ]
    },
    {
     "name": "stdout",
     "output_type": "stream",
     "text": [
      "Processing v4.4.2 (35/35)\r"
     ]
    },
    {
     "data": {
      "text/html": [
       "<div>\n",
       "<style scoped>\n",
       "    .dataframe tbody tr th:only-of-type {\n",
       "        vertical-align: middle;\n",
       "    }\n",
       "\n",
       "    .dataframe tbody tr th {\n",
       "        vertical-align: top;\n",
       "    }\n",
       "\n",
       "    .dataframe thead th {\n",
       "        text-align: right;\n",
       "    }\n",
       "</style>\n",
       "<table border=\"1\" class=\"dataframe\">\n",
       "  <thead>\n",
       "    <tr style=\"text-align: right;\">\n",
       "      <th></th>\n",
       "      <th>release date</th>\n",
       "      <th>tag</th>\n",
       "      <th>Java</th>\n",
       "      <th>C</th>\n",
       "      <th>Bourne Shell</th>\n",
       "      <th>XML</th>\n",
       "      <th>Groovy</th>\n",
       "      <th>Web Services Description</th>\n",
       "      <th>C/C++ Header</th>\n",
       "      <th>Perl</th>\n",
       "      <th>...</th>\n",
       "      <th>Maven</th>\n",
       "      <th>JavaScript</th>\n",
       "      <th>Text</th>\n",
       "      <th>Python</th>\n",
       "      <th>XSLT</th>\n",
       "      <th>CSV</th>\n",
       "      <th>JSON</th>\n",
       "      <th>SVG</th>\n",
       "      <th>Markdown</th>\n",
       "      <th>YAML</th>\n",
       "    </tr>\n",
       "  </thead>\n",
       "  <tbody>\n",
       "    <tr>\n",
       "      <th>0</th>\n",
       "      <td>2009-01-06</td>\n",
       "      <td>1.4</td>\n",
       "      <td>36867</td>\n",
       "      <td>13097</td>\n",
       "      <td>12311</td>\n",
       "      <td>6042</td>\n",
       "      <td>2522</td>\n",
       "      <td>1364</td>\n",
       "      <td>1160</td>\n",
       "      <td>565</td>\n",
       "      <td>...</td>\n",
       "      <td>0.0</td>\n",
       "      <td>0.0</td>\n",
       "      <td>0.0</td>\n",
       "      <td>0.0</td>\n",
       "      <td>0.0</td>\n",
       "      <td>0.0</td>\n",
       "      <td>0.0</td>\n",
       "      <td>0.0</td>\n",
       "      <td>0.0</td>\n",
       "      <td>0.0</td>\n",
       "    </tr>\n",
       "    <tr>\n",
       "      <th>1</th>\n",
       "      <td>2009-02-18</td>\n",
       "      <td>1.5.0</td>\n",
       "      <td>53674</td>\n",
       "      <td>16755</td>\n",
       "      <td>12319</td>\n",
       "      <td>8426</td>\n",
       "      <td>2825</td>\n",
       "      <td>1607</td>\n",
       "      <td>1240</td>\n",
       "      <td>1037</td>\n",
       "      <td>...</td>\n",
       "      <td>0.0</td>\n",
       "      <td>0.0</td>\n",
       "      <td>0.0</td>\n",
       "      <td>0.0</td>\n",
       "      <td>0.0</td>\n",
       "      <td>0.0</td>\n",
       "      <td>0.0</td>\n",
       "      <td>0.0</td>\n",
       "      <td>0.0</td>\n",
       "      <td>0.0</td>\n",
       "    </tr>\n",
       "    <tr>\n",
       "      <th>2</th>\n",
       "      <td>2009-08-05</td>\n",
       "      <td>1.5.1</td>\n",
       "      <td>59401</td>\n",
       "      <td>17867</td>\n",
       "      <td>9244</td>\n",
       "      <td>8754</td>\n",
       "      <td>2971</td>\n",
       "      <td>1717</td>\n",
       "      <td>1288</td>\n",
       "      <td>1180</td>\n",
       "      <td>...</td>\n",
       "      <td>0.0</td>\n",
       "      <td>0.0</td>\n",
       "      <td>0.0</td>\n",
       "      <td>0.0</td>\n",
       "      <td>0.0</td>\n",
       "      <td>0.0</td>\n",
       "      <td>0.0</td>\n",
       "      <td>0.0</td>\n",
       "      <td>0.0</td>\n",
       "      <td>0.0</td>\n",
       "    </tr>\n",
       "    <tr>\n",
       "      <th>3</th>\n",
       "      <td>2009-08-17</td>\n",
       "      <td>1.5.2</td>\n",
       "      <td>46598</td>\n",
       "      <td>17940</td>\n",
       "      <td>9242</td>\n",
       "      <td>8827</td>\n",
       "      <td>2991</td>\n",
       "      <td>1719</td>\n",
       "      <td>1390</td>\n",
       "      <td>1180</td>\n",
       "      <td>...</td>\n",
       "      <td>0.0</td>\n",
       "      <td>0.0</td>\n",
       "      <td>0.0</td>\n",
       "      <td>0.0</td>\n",
       "      <td>0.0</td>\n",
       "      <td>0.0</td>\n",
       "      <td>0.0</td>\n",
       "      <td>0.0</td>\n",
       "      <td>0.0</td>\n",
       "      <td>0.0</td>\n",
       "    </tr>\n",
       "    <tr>\n",
       "      <th>4</th>\n",
       "      <td>2009-11-05</td>\n",
       "      <td>1.6.1</td>\n",
       "      <td>79377</td>\n",
       "      <td>20778</td>\n",
       "      <td>13636</td>\n",
       "      <td>10127</td>\n",
       "      <td>6535</td>\n",
       "      <td>1722</td>\n",
       "      <td>2589</td>\n",
       "      <td>1978</td>\n",
       "      <td>...</td>\n",
       "      <td>1767.0</td>\n",
       "      <td>14.0</td>\n",
       "      <td>0.0</td>\n",
       "      <td>0.0</td>\n",
       "      <td>0.0</td>\n",
       "      <td>0.0</td>\n",
       "      <td>0.0</td>\n",
       "      <td>0.0</td>\n",
       "      <td>0.0</td>\n",
       "      <td>0.0</td>\n",
       "    </tr>\n",
       "  </tbody>\n",
       "</table>\n",
       "<p>5 rows × 32 columns</p>\n",
       "</div>"
      ],
      "text/plain": [
       "  release date    tag   Java      C  Bourne Shell    XML  Groovy  \\\n",
       "0   2009-01-06    1.4  36867  13097         12311   6042    2522   \n",
       "1   2009-02-18  1.5.0  53674  16755         12319   8426    2825   \n",
       "2   2009-08-05  1.5.1  59401  17867          9244   8754    2971   \n",
       "3   2009-08-17  1.5.2  46598  17940          9242   8827    2991   \n",
       "4   2009-11-05  1.6.1  79377  20778         13636  10127    6535   \n",
       "\n",
       "   Web Services Description  C/C++ Header  Perl  ...   Maven  JavaScript  \\\n",
       "0                      1364          1160   565  ...     0.0         0.0   \n",
       "1                      1607          1240  1037  ...     0.0         0.0   \n",
       "2                      1717          1288  1180  ...     0.0         0.0   \n",
       "3                      1719          1390  1180  ...     0.0         0.0   \n",
       "4                      1722          2589  1978  ...  1767.0        14.0   \n",
       "\n",
       "   Text  Python  XSLT  CSV  JSON  SVG  Markdown  YAML  \n",
       "0   0.0     0.0   0.0  0.0   0.0  0.0       0.0   0.0  \n",
       "1   0.0     0.0   0.0  0.0   0.0  0.0       0.0   0.0  \n",
       "2   0.0     0.0   0.0  0.0   0.0  0.0       0.0   0.0  \n",
       "3   0.0     0.0   0.0  0.0   0.0  0.0       0.0   0.0  \n",
       "4   0.0     0.0   0.0  0.0   0.0  0.0       0.0   0.0  \n",
       "\n",
       "[5 rows x 32 columns]"
      ]
     },
     "execution_count": 42,
     "metadata": {},
     "output_type": "execute_result"
    }
   ],
   "source": [
    "df = extract_all_loc(major_minor_patch_versions)\n",
    "df.head()"
   ]
  },
  {
   "cell_type": "code",
   "execution_count": 44,
   "id": "0bac36d6",
   "metadata": {},
   "outputs": [
    {
     "data": {
      "image/png": "[encoded data removed]",
      "text/plain": [
       "<Figure size 1440x720 with 2 Axes>"
      ]
     },
     "metadata": {},
     "output_type": "display_data"
    }
   ],
   "source": [
    "fig, axes = plt.subplots(1, 2, figsize=(20, 10))\n",
    "prominent_languages = ['Java', 'C', 'Groovy', 'Perl', 'Python']\n",
    "\n",
    "for i, j in enumerate([0, len(df) - 1]):\n",
    "    release_df = df.iloc[j][prominent_languages].fillna(0)\n",
    "    release_df.sort_values(ascending=False, inplace=True)\n",
    "\n",
    "    labels = release_df.keys()\n",
    "    sizes = release_df.values\n",
    "\n",
    "    axes[i].set_title(f'LOC of {df.iloc[j][\"tag\"]}')\n",
    "    axes[i].pie(sizes, labels=labels, autopct='%1.1f%%', startangle=90)\n",
    "    \n",
    "plt.show()"
   ]
  },
  {
   "cell_type": "markdown",
   "id": "056e7d22-fee2-4efb-ace7-c06b99edbd36",
   "metadata": {},
   "source": [
    "### Question:\n",
    "9. Do you find any significant difference in the distribution of the language used in the software project between its first and the last version? If so, what is the difference and how much is it?"
   ]
  },
  {
   "cell_type": "code",
   "execution_count": null,
   "id": "8397df5e-e0cd-4608-8e28-d94240b7ace9",
   "metadata": {},
   "outputs": [],
   "source": []
  },
  {
   "cell_type": "markdown",
   "id": "44d37ce7-c3ad-4eb9-a7e6-b7f52ac137c1",
   "metadata": {},
   "source": [
    "### Law of increasing growth for coding langugages"
   ]
  },
  {
   "cell_type": "markdown",
   "id": "ededc08c-1bd4-4725-984a-61a71aa240c6",
   "metadata": {},
   "source": [
    "Get the LOC for each of the considered prominent langugages (as above) for each version of the form major.minor.patch  \n",
    "1) Plot the date (x-axis) vs LOC (y-axis) \n",
    "2) Plot the date (x-axis) vs proportional LOC (y-axis). Proportional is LOC of a language/total number of LOC"
   ]
  },
  {
   "cell_type": "code",
   "execution_count": 43,
   "id": "ccd66fa9-c455-4339-bf42-e9b881d6ffad",
   "metadata": {},
   "outputs": [],
   "source": [
    "prominent_languages_df = df.loc[:, ['release date'] + prominent_languages].fillna(0)"
   ]
  },
  {
   "cell_type": "code",
   "execution_count": 45,
   "id": "bf843988-362f-4486-9e49-5a641c1d04dc",
   "metadata": {},
   "outputs": [
    {
     "data": {
      "image/png": "[encoded data removed]",
      "text/plain": [
       "<Figure size 1440x864 with 2 Axes>"
      ]
     },
     "metadata": {
      "needs_background": "light"
     },
     "output_type": "display_data"
    }
   ],
   "source": [
    "# Define figure and axes\n",
    "fig, axes = plt.subplots(1, 2, figsize=(20, 12))\n",
    "\n",
    "# Plot 1: Date vs LOC\n",
    "axes[0].set_title('Date vs LOC')\n",
    "axes[0].set_xlabel('Date')\n",
    "axes[0].set_ylabel('LOC')\n",
    "for language in prominent_languages:\n",
    "    axes[0].plot(prominent_languages_df['release date'], prominent_languages_df[language], label=language)\n",
    "axes[0].legend()\n",
    "\n",
    "# Plot 2: Date vs Proportional LOC\n",
    "axes[1].set_title('Date vs Proportional LOC')\n",
    "axes[1].set_xlabel('Date')\n",
    "axes[1].set_ylabel('Proportional LOC')\n",
    "\n",
    "# Calculate proportional LOC for each language\n",
    "proportional_loc = {}\n",
    "for language in prominent_languages:\n",
    "    proportional_loc[language] = prominent_languages_df[language] / prominent_languages_df[prominent_languages].sum(axis=1)\n",
    "    \n",
    "# Plot proportional LOC for each language\n",
    "for language in prominent_languages:\n",
    "    axes[1].plot(prominent_languages_df['release date'], proportional_loc[language], label=language)\n",
    "axes[1].legend()\n",
    "\n",
    "# Show the plot\n",
    "plt.show() \n"
   ]
  },
  {
   "cell_type": "markdown",
   "id": "ea3b1876-ad5a-4f90-96e8-ed07e2852101",
   "metadata": {},
   "source": [
    "### Question:\n",
    "10. Does the prominent languages considered by you obey laws of increasing growth?"
   ]
  },
  {
   "attachments": {},
   "cell_type": "markdown",
   "id": "8df7db15-f203-41d6-9bd6-eccf2f9742b5",
   "metadata": {},
   "source": [
    "Yes, the prominent languages considered by us obey the laws of increasing growth."
   ]
  },
  {
   "cell_type": "markdown",
   "id": "478c66e4-4f20-4ed8-98db-70bdcf920fcd",
   "metadata": {},
   "source": [
    "11. Does this software project obey the Law of Increasing Growth?"
   ]
  },
  {
   "attachments": {},
   "cell_type": "markdown",
   "id": "26146858-0cb6-4fd8-9a6b-debef98390b7",
   "metadata": {},
   "source": [
    "Yes, this software project obeys the Law of Increasing Growth like the prominent languages considered by us."
   ]
  },
  {
   "cell_type": "code",
   "execution_count": 48,
   "id": "e6d5e089",
   "metadata": {},
   "outputs": [
    {
     "data": {
      "image/png": "[encoded data removed]",
      "text/plain": [
       "<Figure size 432x288 with 1 Axes>"
      ]
     },
     "metadata": {
      "needs_background": "light"
     },
     "output_type": "display_data"
    }
   ],
   "source": [
    "def plot_code_evolution(df):\n",
    "    # calculate the sum of LOC for each row in the dataframe\n",
    "    code_sum_df = df.drop(['release date', 'tag'], axis=1).fillna(0).sum(axis=1)\n",
    "\n",
    "    # plot the code evolution over time\n",
    "    plt.title('Code evolution')\n",
    "    plt.xlabel('Year')\n",
    "    plt.ylabel('LOC')\n",
    "    plt.plot(df['release date'], code_sum_df, label='LOC')\n",
    "    plt.legend()\n",
    "    plt.show()\n",
    "\n",
    "plot_code_evolution(df)\n",
    "\n"
   ]
  },
  {
   "cell_type": "markdown",
   "id": "375ae835-c18c-4af3-a730-32d853df034a",
   "metadata": {},
   "source": [
    "### Modify the CLOC parameters"
   ]
  },
  {
   "cell_type": "markdown",
   "id": "b3d71b90-1492-4833-9c0a-c8a0f7446ada",
   "metadata": {},
   "source": [
    "1. Exclude all bank lines and verify if the Law of Increasing Growth still holds good for this filtering"
   ]
  },
  {
   "cell_type": "code",
   "execution_count": 49,
   "id": "ff129b14-94ae-460c-bcb3-981180e72db3",
   "metadata": {},
   "outputs": [
    {
     "name": "stdout",
     "output_type": "stream",
     "text": [
      "Processing 1.4 (1/35)\r"
     ]
    },
    {
     "name": "stderr",
     "output_type": "stream",
     "text": [
      "Can't cd to (../eucalyptus/clc/modules/simpleworkflow/src/main/java/com/eucalyptus/simpleworkflow/) persist: No such file or directory\n",
      " at /opt/homebrew/Cellar/cloc/1.96/libexec/bin/cloc line 5419.\n",
      "Can't cd to (../eucalyptus/clc/modules/simpleworkflow/src/main/java/com/eucalyptus/simpleworkflow/) policy: No such file or directory\n",
      " at /opt/homebrew/Cellar/cloc/1.96/libexec/bin/cloc line 5419.\n",
      "Can't cd to (../eucalyptus/clc/modules/) simpleworkflow-common: No such file or directory\n",
      " at /opt/homebrew/Cellar/cloc/1.96/libexec/bin/cloc line 5419.\n",
      "Can't cd to (../eucalyptus/clc/modules/) tokens: No such file or directory\n",
      " at /opt/homebrew/Cellar/cloc/1.96/libexec/bin/cloc line 5419.\n",
      "Unable to read ../eucalyptus/devel/log2dot.sh\n",
      "Unable to read ../eucalyptus/devel/mapIamQuotasToActions.groovy\n",
      "Unable to read ../eucalyptus/devel/nc-log-gnuplot.pl\n",
      "Unable to read ../eucalyptus/devel/populate_canonical_ids.groovy\n",
      "Unable to read ../eucalyptus/devel/postgres_alises.sh\n",
      "Unable to read ../eucalyptus/devel/project.sh\n",
      "Unable to read ../eucalyptus/devel/quick_cc.pl\n",
      "Unable to read ../eucalyptus/devel/quick_cloud.pl\n",
      "Unable to read ../eucalyptus/devel/quick_ha.pl\n",
      "Unable to read ../eucalyptus/devel/quick_nc.pl\n",
      "Unable to read ../eucalyptus/devel/quick_svc_lookup.pl\n",
      "Unable to read ../eucalyptus/devel/revcount.sh\n",
      "Unable to read ../eucalyptus/devel/runJUnitTest.sh\n",
      "Unable to read ../eucalyptus/devel/runTest.sh\n",
      "Unable to read ../eucalyptus/devel/tcpdump.sh\n",
      "Unable to read ../eucalyptus/doxygen/Makefile\n",
      "Unable to read ../eucalyptus/doxygen/extra_pages/changelog.txt\n",
      "Unable to read ../eucalyptus/doxygen/extra_pages/cluster_project.txt\n",
      "Unable to read ../eucalyptus/doxygen/extra_pages/doxygen.txt\n",
      "Unable to read ../eucalyptus/doxygen/extra_pages/eucanetd_project.txt\n",
      "Unable to read ../eucalyptus/doxygen/extra_pages/install.txt\n",
      "Unable to read ../eucalyptus/doxygen/extra_pages/license.txt\n",
      "Unable to read ../eucalyptus/doxygen/extra_pages/node_project.txt\n",
      "Unable to read ../eucalyptus/doxygen/extra_pages/readme.txt\n",
      "Unable to read ../eucalyptus/doxygen/extra_pages/vmware_broker_project.txt\n",
      "Unable to read ../eucalyptus/doxygen/html_includes/customdoxygen.css\n",
      "Unable to read ../eucalyptus/doxygen/html_includes/footer.html\n",
      "Unable to read ../eucalyptus/doxygen/html_includes/header.html\n",
      "Unable to read ../eucalyptus/doxygen/html_includes/layoutFileName_1_6.xml\n",
      "Unable to read ../eucalyptus/doxygen/html_includes/layoutFileName_1_8.xml\n",
      "Unable to read ../eucalyptus/doxygen/setup.sh\n",
      "Unable to read ../eucalyptus/extras/ganglia.sh\n",
      "Unable to read ../eucalyptus/extras/nagios.sh\n",
      "Unable to read ../eucalyptus/m4/python.m4\n",
      "Unable to read ../eucalyptus/net/TODO.txt\n",
      "Unable to read ../eucalyptus/net/dev_handler.c\n",
      "Unable to read ../eucalyptus/net/dev_handler.h\n",
      "Unable to read ../eucalyptus/net/ebt_handler.c\n",
      "Unable to read ../eucalyptus/net/ebt_handler.h\n",
      "Unable to read ../eucalyptus/net/euca-to-mido.c\n",
      "Unable to read ../eucalyptus/net/euca-to-mido.h\n",
      "Unable to read ../eucalyptus/net/euca_arp.c\n",
      "Unable to read ../eucalyptus/net/euca_arp.h\n",
      "Unable to read ../eucalyptus/net/euca_gni.c\n",
      "Unable to read ../eucalyptus/net/euca_gni.h\n",
      "Unable to read ../eucalyptus/net/eucanetd.c\n",
      "Unable to read ../eucalyptus/net/eucanetd.h\n",
      "Unable to read ../eucalyptus/net/eucanetd_edge.c\n",
      "Unable to read ../eucalyptus/net/eucanetd_edge.h\n",
      "Unable to read ../eucalyptus/net/eucanetd_template.c\n",
      "Unable to read ../eucalyptus/net/eucanetd_util.c\n",
      "Unable to read ../eucalyptus/net/eucanetd_util.h\n",
      "Unable to read ../eucalyptus/net/eucanetd_vpc.c\n",
      "Unable to read ../eucalyptus/net/ips_handler.c\n",
      "Unable to read ../eucalyptus/net/ips_handler.h\n",
      "Unable to read ../eucalyptus/net/ipt_handler.c\n",
      "Unable to read ../eucalyptus/net/ipt_handler.h\n",
      "Unable to read ../eucalyptus/net/midonet-api.c\n",
      "Unable to read ../eucalyptus/net/midonet-api.h\n",
      "Unable to read ../eucalyptus/node/client-marshal-fake.c\n",
      "Unable to read ../eucalyptus/node/handlers_default.c\n",
      "Unable to read ../eucalyptus/node/handlers_kvm.c\n",
      "Unable to read ../eucalyptus/node/handlers_xen.c\n",
      "Unable to read ../eucalyptus/node/hooks.c\n",
      "Unable to read ../eucalyptus/node/hooks.h\n",
      "Unable to read ../eucalyptus/node/libvirt-hooks/qemu\n",
      "Unable to read ../eucalyptus/node/libvirt_nag.c\n",
      "Unable to read ../eucalyptus/node/libvirt_tortura.c\n",
      "Unable to read ../eucalyptus/node/xml.c\n",
      "Unable to read ../eucalyptus/node/xml.h\n",
      "Unable to read ../eucalyptus/project/.cproject\n",
      "Unable to read ../eucalyptus/project/.project\n",
      "Unable to read ../eucalyptus/project/.settings/org.eclipse.cdt.codan.core.prefs\n",
      "Unable to read ../eucalyptus/storage/OSGclient.c\n",
      "Unable to read ../eucalyptus/storage/SCclient.c\n",
      "Unable to read ../eucalyptus/storage/backing.c\n",
      "Unable to read ../eucalyptus/storage/backing.h\n",
      "Unable to read ../eucalyptus/storage/blobstore.c\n",
      "Unable to read ../eucalyptus/storage/blobstore.h\n",
      "Unable to read ../eucalyptus/storage/diskutil.c\n",
      "Unable to read ../eucalyptus/storage/diskutil.h\n",
      "Unable to read ../eucalyptus/storage/ebs_utils.c\n",
      "Unable to read ../eucalyptus/storage/ebs_utils.h\n",
      "Unable to read ../eucalyptus/storage/euca_volume.c\n",
      "Unable to read ../eucalyptus/storage/http.c\n",
      "Unable to read ../eucalyptus/storage/http.h\n",
      "Unable to read ../eucalyptus/storage/iscsi.c\n",
      "Unable to read ../eucalyptus/storage/iscsi.h\n",
      "Unable to read ../eucalyptus/storage/map.c\n",
      "Unable to read ../eucalyptus/storage/map.h\n",
      "Unable to read ../eucalyptus/storage/objectstorage.c\n",
      "Unable to read ../eucalyptus/storage/objectstorage.h\n",
      "Unable to read ../eucalyptus/storage/sc-client-marshal-adb.c\n",
      "Unable to read ../eucalyptus/storage/sc-client-marshal.h\n",
      "Unable to read ../eucalyptus/storage/storage-controller.c\n",
      "Unable to read ../eucalyptus/storage/storage-controller.h\n",
      "Unable to read ../eucalyptus/storage/storage-windows.c\n",
      "Unable to read ../eucalyptus/storage/storage-windows.h\n",
      "Unable to read ../eucalyptus/storage/vbr.c\n",
      "Unable to read ../eucalyptus/storage/vbr.h\n",
      "Unable to read ../eucalyptus/systemd/Makefile\n",
      "Unable to read ../eucalyptus/tools/authorize-migration-keys\n",
      "Unable to read ../eucalyptus/tools/clcadmin-assume-system-credentials\n",
      "Unable to read ../eucalyptus/tools/clcadmin-copy-keys\n",
      "Unable to read ../eucalyptus/tools/clcadmin-grant-admin-access\n",
      "Unable to read ../eucalyptus/tools/clcadmin-initialize-cloud\n",
      "Unable to read ../eucalyptus/tools/clusteradmin-register-nodes\n",
      "Unable to read ../eucalyptus/tools/config-no-polkit\n",
      "Unable to read ../eucalyptus/tools/connect_iscsitarget.pl\n",
      "Unable to read ../eucalyptus/tools/connect_iscsitarget_main.pl\n",
      "Unable to read ../eucalyptus/tools/connect_iscsitarget_sc.pl\n",
      "Unable to read ../eucalyptus/tools/detach.pl\n",
      "Unable to read ../eucalyptus/tools/disconnect_iscsitarget.pl\n",
      "Unable to read ../eucalyptus/tools/disconnect_iscsitarget_main.pl\n",
      "Unable to read ../eucalyptus/tools/disconnect_iscsitarget_sc.pl\n",
      "Unable to read ../eucalyptus/tools/dynserv.pl\n",
      "Unable to read ../eucalyptus/tools/elb-security-policy/elb_security_policy_2011_08.json\n",
      "Unable to read ../eucalyptus/tools/elb-security-policy/elb_security_policy_2014_01.json\n",
      "Unable to read ../eucalyptus/tools/elb-security-policy/elb_security_policy_2014_10.json\n",
      "Unable to read ../eucalyptus/tools/elb-security-policy/elb_security_policy_2015_02.json\n",
      "Unable to read ../eucalyptus/tools/elb-security-policy/elb_security_policy_2015_03.json\n",
      "Unable to read ../eucalyptus/tools/elb-security-policy/elb_security_policy_2015_05.json\n",
      "Unable to read ../eucalyptus/tools/elb-security-policy/elb_security_policy_2016_08.json\n",
      "Unable to read ../eucalyptus/tools/euca-lictool\n",
      "Unable to read ../eucalyptus/tools/euca-upgrade\n",
      "Unable to read ../eucalyptus/tools/euca_arpt\n",
      "Unable to read ../eucalyptus/tools/eucalyptus-backup-restore\n",
      "Unable to read ../eucalyptus/tools/gen_kvm_libvirt_xml\n",
      "Unable to read ../eucalyptus/tools/generate-migration-keys.sh\n",
      "Unable to read ../eucalyptus/tools/get_bundle\n",
      "Unable to read ../eucalyptus/tools/get_iscsitarget.pl\n",
      "Unable to read ../eucalyptus/tools/get_sys_info\n",
      "Unable to read ../eucalyptus/tools/getstats.pl\n",
      "Unable to read ../eucalyptus/tools/howto-update-floppy.txt\n",
      "Unable to read ../eucalyptus/tools/imaging/Makefile\n",
      "Unable to read ../eucalyptus/tools/imaging/bin/euca-run-workflow\n",
      "Unable to read ../eucalyptus/tools/imaging/eucatoolkit/stages/__init__.py\n",
      "Unable to read ../eucalyptus/tools/imaging/eucatoolkit/stages/cryptoutils.py\n",
      "Unable to read ../eucalyptus/tools/imaging/eucatoolkit/stages/downloadimage.py\n",
      "Unable to read ../eucalyptus/tools/imaging/eucatoolkit/stages/downloadmanifest.py\n",
      "Unable to read ../eucalyptus/tools/imaging/eucatoolkit/stages/downloadpart.py\n",
      "Unable to read ../eucalyptus/tools/imaging/eucatoolkit/stages/processutils.py\n",
      "Unable to read ../eucalyptus/tools/imaging/setup.py\n",
      "Unable to read ../eucalyptus/tools/iscsitarget_common.pl\n",
      "Unable to read ../eucalyptus/tools/libvirt-kvm-windows-example.xml\n",
      "Unable to read ../eucalyptus/tools/libvirt-xen-windows-example.xml\n",
      "Unable to read ../eucalyptus/tools/libvirt.xsl\n",
      "Unable to read ../eucalyptus/tools/nc-hooks/example.sh\n",
      "Unable to read ../eucalyptus/tools/nc-hooks/libvirt-check.sh\n",
      "Unable to read ../eucalyptus/tools/nc-hooks/platform-2-console.sh\n",
      "Unable to read ../eucalyptus/tools/partition2disk\n",
      "Unable to read ../eucalyptus/tools/populate_arp.pl\n",
      "Unable to read ../eucalyptus/tools/service-images.yml\n",
      "Unable to read ../eucalyptus/tools/status/Makefile\n",
      "Unable to read ../eucalyptus/tools/status/nagios/check_component_health\n",
      "Unable to read ../eucalyptus/tools/status/nagios/check_euca_proc\n",
      "Unable to read ../eucalyptus/tools/status/sensor_utils.py\n",
      "Unable to read ../eucalyptus/util/adb-helpers.h\n",
      "Unable to read ../eucalyptus/util/adb-service-helpers.h\n",
      "Unable to read ../eucalyptus/util/atomic_file.c\n",
      "Unable to read ../eucalyptus/util/atomic_file.h\n",
      "Unable to read ../eucalyptus/util/config.c\n",
      "Unable to read ../eucalyptus/util/config.h\n",
      "Unable to read ../eucalyptus/util/euca_axis.c\n",
      "Unable to read ../eucalyptus/util/euca_axis.h\n",
      "Unable to read ../eucalyptus/util/euca_file.c\n",
      "Unable to read ../eucalyptus/util/euca_file.h\n",
      "Unable to read ../eucalyptus/util/euca_network.c\n",
      "Unable to read ../eucalyptus/util/euca_network.h\n",
      "Unable to read ../eucalyptus/util/euca_rootwrap.c\n",
      "Unable to read ../eucalyptus/util/euca_string.c\n",
      "Unable to read ../eucalyptus/util/euca_string.h\n",
      "Unable to read ../eucalyptus/util/euca_system.c\n",
      "Unable to read ../eucalyptus/util/euca_system.h\n",
      "Unable to read ../eucalyptus/util/fault.c\n",
      "Unable to read ../eucalyptus/util/fault.h\n",
      "Unable to read ../eucalyptus/util/faults/en_US/1002.xml\n",
      "Unable to read ../eucalyptus/util/faults/en_US/1003.xml\n",
      "Unable to read ../eucalyptus/util/faults/en_US/1004.xml\n",
      "Unable to read ../eucalyptus/util/faults/en_US/1005.xml\n",
      "Unable to read ../eucalyptus/util/faults/en_US/1006.xml\n",
      "Unable to read ../eucalyptus/util/faults/en_US/1008.xml\n",
      "Unable to read ../eucalyptus/util/faults/en_US/1009.xml\n",
      "Unable to read ../eucalyptus/util/faults/en_US/1013.xml\n",
      "Unable to read ../eucalyptus/util/faults/en_US/1014.xml\n",
      "Unable to read ../eucalyptus/util/faults/en_US/1015.xml\n",
      "Unable to read ../eucalyptus/util/faults/en_US/1016.xml\n",
      "Unable to read ../eucalyptus/util/faults/en_US/1017.xml\n",
      "Unable to read ../eucalyptus/util/faults/en_US/1500.xml\n",
      "Unable to read ../eucalyptus/util/faults/en_US/1501.xml\n",
      "Unable to read ../eucalyptus/util/faults/en_US/2000.xml\n",
      "Unable to read ../eucalyptus/util/faults/en_US/2001.xml\n",
      "Unable to read ../eucalyptus/util/faults/en_US/2002.xml\n",
      "Unable to read ../eucalyptus/util/faults/en_US/2003.xml\n",
      "Unable to read ../eucalyptus/util/faults/en_US/common.xml\n",
      "Unable to read ../eucalyptus/util/faults/ru_RU/1002.xml\n",
      "Unable to read ../eucalyptus/util/faults/ru_RU/1234.xml\n",
      "Unable to read ../eucalyptus/util/faults/ru_RU/1235.xml\n",
      "Unable to read ../eucalyptus/util/faults/ru_RU/common.xml\n",
      "Unable to read ../eucalyptus/util/hash.c\n",
      "Unable to read ../eucalyptus/util/hash.h\n",
      "Unable to read ../eucalyptus/util/instance33.h\n",
      "Unable to read ../eucalyptus/util/log.c\n",
      "Unable to read ../eucalyptus/util/log.h\n",
      "Unable to read ../eucalyptus/util/sensor.c\n",
      "Unable to read ../eucalyptus/util/sensor.h\n",
      "Unable to read ../eucalyptus/util/sequence_executor.c\n",
      "Unable to read ../eucalyptus/util/sequence_executor.h\n",
      "Unable to read ../eucalyptus/util/stats/Makefile\n",
      "Unable to read ../eucalyptus/util/stats/fs_emitter.c\n",
      "Unable to read ../eucalyptus/util/stats/fs_emitter.h\n",
      "Unable to read ../eucalyptus/util/stats/message_sensor.c\n",
      "Unable to read ../eucalyptus/util/stats/message_sensor.h\n",
      "Unable to read ../eucalyptus/util/stats/message_stats.c\n",
      "Unable to read ../eucalyptus/util/stats/message_stats.h\n",
      "Unable to read ../eucalyptus/util/stats/sensor_common.c\n",
      "Unable to read ../eucalyptus/util/stats/sensor_common.h\n",
      "Unable to read ../eucalyptus/util/stats/service_sensor.c\n",
      "Unable to read ../eucalyptus/util/stats/service_sensor.h\n",
      "Unable to read ../eucalyptus/util/stats/stats.c\n",
      "Unable to read ../eucalyptus/util/stats/stats.h\n",
      "Unable to read ../eucalyptus/util/template.c\n",
      "Unable to read ../eucalyptus/util/template.h\n",
      "Unable to read ../eucalyptus/util/utf8.c\n",
      "Unable to read ../eucalyptus/util/utf8.h\n",
      "Unable to read ../eucalyptus/util/wc.c\n",
      "Unable to read ../eucalyptus/util/wc.h\n",
      "Unable to read ../eucalyptus/wsdl/eucalyptus_sc.wsdl\n",
      "\n",
      "11 errors:\n",
      "Unable to read:  ../eucalyptus/clc/modules/storage-common/build.xml\n",
      "Unable to read:  ../eucalyptus/clc/modules/tokens-common/build.xml\n",
      "Unable to read:  ../eucalyptus/clc/modules/troubleshooting/build.xml\n",
      "Unable to read:  ../eucalyptus/clc/modules/walrus-common/build.xml\n",
      "Unable to read:  ../eucalyptus/clc/modules/walrus/build.xml\n",
      "Unable to read:  ../eucalyptus/clc/modules/wsstack/build.xml\n",
      "Unable to read:  ../eucalyptus/config.guess\n",
      "Unable to read:  ../eucalyptus/config.sub\n",
      "Unable to read:  ../eucalyptus/devel/.buildpath\n",
      "Unable to read:  ../eucalyptus/devel/groovy-starter.conf\n",
      "Unable to read:  ../eucalyptus/devel/ha_transit.pl\n"
     ]
    },
    {
     "name": "stdout",
     "output_type": "stream",
     "text": [
      "Processing v4.1.0 (25/35)\r"
     ]
    },
    {
     "name": "stderr",
     "output_type": "stream",
     "text": [
      "\n",
      "1 error:\n",
      "Line count, exceeded timeout:  ../eucalyptus/net/globalnetwork.c\n"
     ]
    },
    {
     "name": "stdout",
     "output_type": "stream",
     "text": [
      "Processing v4.4.2 (35/35)\r"
     ]
    }
   ],
   "source": [
    "without_blank_df = extract_all_loc(major_minor_patch_versions, add_blank=False)\n"
   ]
  },
  {
   "cell_type": "code",
   "execution_count": null,
   "id": "1af269bc",
   "metadata": {},
   "outputs": [],
   "source": [
    "plot_code_evolution(without_blank_df)"
   ]
  },
  {
   "cell_type": "markdown",
   "id": "5cb0cee6-19b3-4e50-8cb5-82eb50736713",
   "metadata": {},
   "source": [
    "2. Exclude all comment lines and verify if the Law of Increasing Growth still holds good for this filtering"
   ]
  },
  {
   "cell_type": "code",
   "execution_count": null,
   "id": "7d971a34-fe97-4793-9864-07b2114ed373",
   "metadata": {},
   "outputs": [],
   "source": [
    "without_comment_df = extract_all_loc(major_minor_patch_versions, add_comment=False)"
   ]
  },
  {
   "cell_type": "code",
   "execution_count": null,
   "id": "04e4673b",
   "metadata": {},
   "outputs": [],
   "source": [
    "plot_code_evolution(without_comment_df)\n"
   ]
  },
  {
   "cell_type": "markdown",
   "id": "16cfd99a-0a91-497d-a1f9-4d7a8d407736",
   "metadata": {},
   "source": [
    "3. Exclude all non-code files (or consider prominent coding langugages used in the project) and and verify if the Law of Increasing Growth still holds good for this filtering"
   ]
  },
  {
   "cell_type": "code",
   "execution_count": null,
   "id": "d4981a7f-f79a-4e62-9ba3-94723a0ad640",
   "metadata": {},
   "outputs": [],
   "source": [
    "only_code_df = extract_all_loc(major_minor_patch_versions, add_comment=False, add_blank=False)\n",
    "only_prominent_code_df = only_code_df[['release date', 'tag'] + prominent_languages]"
   ]
  },
  {
   "cell_type": "code",
   "execution_count": null,
   "id": "bc0d6002-1014-43d0-8dfc-dae6a8680a04",
   "metadata": {},
   "outputs": [],
   "source": [
    "plot_code_evolution(only_prominent_code_df)\n"
   ]
  },
  {
   "cell_type": "markdown",
   "id": "5dfd05d1-2dc8-4abc-8d05-639007bf553e",
   "metadata": {},
   "source": [
    "### 2.3 Law of Continuing Change\n",
    "1. Using CLOC tool, find the features such as number of lines of code that are added, modified, removed and same between two consecutive versions\n",
    "2. Consider all the three component versions (major.minor.patch) - Dataset A\n",
    "3. Consider only the minor versions (major.minor) - Dataset B\n",
    "4. Having all the features in the same plot, create two plots (one for Dataset A and another for Dataset B) the outcomes with date on x-axis and the number on y-axis.\n",
    "5. Make a subplot of all the features\n",
    "\n",
    "Code hint:  \n",
    "For each pair of tags, set the original project to the required tag and the copy of the original project to the next tag.  \n",
    "To get the required data in json format - \"command = f'CLOC/cloc --git --diff {first_project_path} {second_project_path} --json'\""
   ]
  },
  {
   "cell_type": "code",
   "execution_count": 58,
   "id": "c38f5e8d-245b-4307-9d98-2340cbea06a1",
   "metadata": {},
   "outputs": [],
   "source": [
    "eucalyptus_project_path = '../eucalyptus/' # your project path here\n",
    "eucalyptus_copy_project_path = '../eucalyptus-copy/' # your path to the copy of your project here\n",
    "#major_minor_patch_versions = 'v4.1.0' #set of version that you would like to consider for this analysis"
   ]
  },
  {
   "cell_type": "code",
   "execution_count": 61,
   "id": "f0682e1c-dd84-4f31-bdfa-781e5a6ac75f",
   "metadata": {},
   "outputs": [],
   "source": [
    "def extract_for_tag(tags, language='Java'):\n",
    "    df = []\n",
    "    \n",
    "    for i, current_tag in enumerate(tags[:-1]):\n",
    "        next_tag = tags[i+1]\n",
    "        print(f'Processing {current_tag} ({i+1}/{len(tags)})', end='\\r')\n",
    "        \n",
    "        # Reset the project to the current tag\n",
    "        command = f'git -C {eucalyptus_project_path} reset --hard {current_tag}'\n",
    "        process = subprocess.Popen(command, stdout=subprocess.PIPE, shell=True)\n",
    "        \n",
    "        # Get the release date for the current tag\n",
    "        command = f'git -C {eucalyptus_project_path} tag -l --format=\"%(refname:short)|%(creatordate:short)\" | sort -r'\n",
    "        process = subprocess.Popen(command, stdout=subprocess.PIPE, shell=True)\n",
    "        \n",
    "        release_date = None\n",
    "        for line in process.stdout:\n",
    "            line = line.strip().decode('utf-8')\n",
    "            if line.startswith(current_tag):\n",
    "                release_date = datetime.strptime(line.split('|')[1], '%Y-%m-%d')\n",
    "                break\n",
    "                \n",
    "        # Reset the copy project to the next tag\n",
    "        command = f'git -C {eucalyptus_copy_project_path} reset --hard {next_tag}'\n",
    "        process = subprocess.Popen(command, stdout=subprocess.PIPE, shell=True)\n",
    "\n",
    "        # Get the diff between the current and next tags using cloc\n",
    "        command = f'cloc --git --diff {eucalyptus_project_path} {eucalyptus_copy_project_path} --json'\n",
    "        process = subprocess.Popen(command, stdout=subprocess.PIPE, shell=True)\n",
    "        diff = process.communicate()[0].decode('utf-8')\n",
    "        \n",
    "        # Parse the JSON output of cloc and add the relevant data to the DataFrame\n",
    "        data = json.loads(diff)\n",
    "        row = {'release date': release_date, 'current_tag': current_tag, 'next_tag': next_tag}\n",
    "        for key, value in data.items():\n",
    "            if language in value:\n",
    "                loc = value[language]['code'] + value[language]['comment'] + value[language]['blank']\n",
    "                row[key] = loc\n",
    "                \n",
    "        df.append(row)\n",
    "    \n",
    "    return pd.DataFrame(df)\n"
   ]
  },
  {
   "cell_type": "code",
   "execution_count": 62,
   "id": "7b5f935d-dc48-4b97-8d5c-9168e372bb47",
   "metadata": {},
   "outputs": [
    {
     "name": "stdout",
     "output_type": "stream",
     "text": [
      "Processing v (1/6)\r"
     ]
    },
    {
     "name": "stderr",
     "output_type": "stream",
     "text": [
      "fatal: ambiguous argument 'v': unknown revision or path not in the working tree.\n",
      "Use '--' to separate paths from revisions, like this:\n",
      "'git <command> [<revision>...] -- [<file>...]'\n",
      "fatal: cannot change to '../eucalyptus-copy/': No such file or directory\n",
      "fatal: ambiguous argument '../eucalyptus-copy/': unknown revision or path not in the working tree.\n",
      "Use '--' to separate paths from revisions, like this:\n",
      "'git <command> [<revision>...] -- [<file>...]'\n",
      "fatal: Not a valid object name ../eucalyptus-copy/\n",
      "fatal: not a valid object name: ../eucalyptus-copy/\n",
      "Failed to create tarfile of files from git. at /opt/homebrew/Cellar/cloc/1.96/libexec/bin/cloc line 5246.\n"
     ]
    },
    {
     "ename": "JSONDecodeError",
     "evalue": "Expecting value: line 1 column 1 (char 0)",
     "output_type": "error",
     "traceback": [
      "\u001b[0;31m---------------------------------------------------------------------------\u001b[0m",
      "\u001b[0;31mJSONDecodeError\u001b[0m                           Traceback (most recent call last)",
      "\u001b[1;32m/Users/hugo/MASTER_I/Q2/SOFTWARE_EVOLUTION/TP/LAB2/Software_evolution_TP2_2023/TP2_section2.ipynb Cellule 73\u001b[0m in \u001b[0;36m<cell line: 1>\u001b[0;34m()\u001b[0m\n\u001b[0;32m----> <a href='vscode-notebook-cell:/Users/hugo/MASTER_I/Q2/SOFTWARE_EVOLUTION/TP/LAB2/Software_evolution_TP2_2023/TP2_section2.ipynb#Y131sZmlsZQ%3D%3D?line=0'>1</a>\u001b[0m dataset_A \u001b[39m=\u001b[39m extract_for_tag(major_minor_patch_versions)\n\u001b[1;32m      <a href='vscode-notebook-cell:/Users/hugo/MASTER_I/Q2/SOFTWARE_EVOLUTION/TP/LAB2/Software_evolution_TP2_2023/TP2_section2.ipynb#Y131sZmlsZQ%3D%3D?line=1'>2</a>\u001b[0m dataset_A\u001b[39m.\u001b[39mhead()\n",
      "\u001b[1;32m/Users/hugo/MASTER_I/Q2/SOFTWARE_EVOLUTION/TP/LAB2/Software_evolution_TP2_2023/TP2_section2.ipynb Cellule 73\u001b[0m in \u001b[0;36mextract_for_tag\u001b[0;34m(tags, language)\u001b[0m\n\u001b[1;32m     <a href='vscode-notebook-cell:/Users/hugo/MASTER_I/Q2/SOFTWARE_EVOLUTION/TP/LAB2/Software_evolution_TP2_2023/TP2_section2.ipynb#Y131sZmlsZQ%3D%3D?line=29'>30</a>\u001b[0m diff \u001b[39m=\u001b[39m process\u001b[39m.\u001b[39mcommunicate()[\u001b[39m0\u001b[39m]\u001b[39m.\u001b[39mdecode(\u001b[39m'\u001b[39m\u001b[39mutf-8\u001b[39m\u001b[39m'\u001b[39m)\n\u001b[1;32m     <a href='vscode-notebook-cell:/Users/hugo/MASTER_I/Q2/SOFTWARE_EVOLUTION/TP/LAB2/Software_evolution_TP2_2023/TP2_section2.ipynb#Y131sZmlsZQ%3D%3D?line=31'>32</a>\u001b[0m \u001b[39m# Parse the JSON output of cloc and add the relevant data to the DataFrame\u001b[39;00m\n\u001b[0;32m---> <a href='vscode-notebook-cell:/Users/hugo/MASTER_I/Q2/SOFTWARE_EVOLUTION/TP/LAB2/Software_evolution_TP2_2023/TP2_section2.ipynb#Y131sZmlsZQ%3D%3D?line=32'>33</a>\u001b[0m data \u001b[39m=\u001b[39m json\u001b[39m.\u001b[39;49mloads(diff)\n\u001b[1;32m     <a href='vscode-notebook-cell:/Users/hugo/MASTER_I/Q2/SOFTWARE_EVOLUTION/TP/LAB2/Software_evolution_TP2_2023/TP2_section2.ipynb#Y131sZmlsZQ%3D%3D?line=33'>34</a>\u001b[0m row \u001b[39m=\u001b[39m {\u001b[39m'\u001b[39m\u001b[39mrelease date\u001b[39m\u001b[39m'\u001b[39m: release_date, \u001b[39m'\u001b[39m\u001b[39mcurrent_tag\u001b[39m\u001b[39m'\u001b[39m: current_tag, \u001b[39m'\u001b[39m\u001b[39mnext_tag\u001b[39m\u001b[39m'\u001b[39m: next_tag}\n\u001b[1;32m     <a href='vscode-notebook-cell:/Users/hugo/MASTER_I/Q2/SOFTWARE_EVOLUTION/TP/LAB2/Software_evolution_TP2_2023/TP2_section2.ipynb#Y131sZmlsZQ%3D%3D?line=34'>35</a>\u001b[0m \u001b[39mfor\u001b[39;00m key, value \u001b[39min\u001b[39;00m data\u001b[39m.\u001b[39mitems():\n",
      "File \u001b[0;32m/Library/Frameworks/Python.framework/Versions/3.10/lib/python3.10/json/__init__.py:346\u001b[0m, in \u001b[0;36mloads\u001b[0;34m(s, cls, object_hook, parse_float, parse_int, parse_constant, object_pairs_hook, **kw)\u001b[0m\n\u001b[1;32m    341\u001b[0m     s \u001b[39m=\u001b[39m s\u001b[39m.\u001b[39mdecode(detect_encoding(s), \u001b[39m'\u001b[39m\u001b[39msurrogatepass\u001b[39m\u001b[39m'\u001b[39m)\n\u001b[1;32m    343\u001b[0m \u001b[39mif\u001b[39;00m (\u001b[39mcls\u001b[39m \u001b[39mis\u001b[39;00m \u001b[39mNone\u001b[39;00m \u001b[39mand\u001b[39;00m object_hook \u001b[39mis\u001b[39;00m \u001b[39mNone\u001b[39;00m \u001b[39mand\u001b[39;00m\n\u001b[1;32m    344\u001b[0m         parse_int \u001b[39mis\u001b[39;00m \u001b[39mNone\u001b[39;00m \u001b[39mand\u001b[39;00m parse_float \u001b[39mis\u001b[39;00m \u001b[39mNone\u001b[39;00m \u001b[39mand\u001b[39;00m\n\u001b[1;32m    345\u001b[0m         parse_constant \u001b[39mis\u001b[39;00m \u001b[39mNone\u001b[39;00m \u001b[39mand\u001b[39;00m object_pairs_hook \u001b[39mis\u001b[39;00m \u001b[39mNone\u001b[39;00m \u001b[39mand\u001b[39;00m \u001b[39mnot\u001b[39;00m kw):\n\u001b[0;32m--> 346\u001b[0m     \u001b[39mreturn\u001b[39;00m _default_decoder\u001b[39m.\u001b[39;49mdecode(s)\n\u001b[1;32m    347\u001b[0m \u001b[39mif\u001b[39;00m \u001b[39mcls\u001b[39m \u001b[39mis\u001b[39;00m \u001b[39mNone\u001b[39;00m:\n\u001b[1;32m    348\u001b[0m     \u001b[39mcls\u001b[39m \u001b[39m=\u001b[39m JSONDecoder\n",
      "File \u001b[0;32m/Library/Frameworks/Python.framework/Versions/3.10/lib/python3.10/json/decoder.py:337\u001b[0m, in \u001b[0;36mJSONDecoder.decode\u001b[0;34m(self, s, _w)\u001b[0m\n\u001b[1;32m    332\u001b[0m \u001b[39mdef\u001b[39;00m \u001b[39mdecode\u001b[39m(\u001b[39mself\u001b[39m, s, _w\u001b[39m=\u001b[39mWHITESPACE\u001b[39m.\u001b[39mmatch):\n\u001b[1;32m    333\u001b[0m     \u001b[39m\"\"\"Return the Python representation of ``s`` (a ``str`` instance\u001b[39;00m\n\u001b[1;32m    334\u001b[0m \u001b[39m    containing a JSON document).\u001b[39;00m\n\u001b[1;32m    335\u001b[0m \n\u001b[1;32m    336\u001b[0m \u001b[39m    \"\"\"\u001b[39;00m\n\u001b[0;32m--> 337\u001b[0m     obj, end \u001b[39m=\u001b[39m \u001b[39mself\u001b[39;49m\u001b[39m.\u001b[39;49mraw_decode(s, idx\u001b[39m=\u001b[39;49m_w(s, \u001b[39m0\u001b[39;49m)\u001b[39m.\u001b[39;49mend())\n\u001b[1;32m    338\u001b[0m     end \u001b[39m=\u001b[39m _w(s, end)\u001b[39m.\u001b[39mend()\n\u001b[1;32m    339\u001b[0m     \u001b[39mif\u001b[39;00m end \u001b[39m!=\u001b[39m \u001b[39mlen\u001b[39m(s):\n",
      "File \u001b[0;32m/Library/Frameworks/Python.framework/Versions/3.10/lib/python3.10/json/decoder.py:355\u001b[0m, in \u001b[0;36mJSONDecoder.raw_decode\u001b[0;34m(self, s, idx)\u001b[0m\n\u001b[1;32m    353\u001b[0m     obj, end \u001b[39m=\u001b[39m \u001b[39mself\u001b[39m\u001b[39m.\u001b[39mscan_once(s, idx)\n\u001b[1;32m    354\u001b[0m \u001b[39mexcept\u001b[39;00m \u001b[39mStopIteration\u001b[39;00m \u001b[39mas\u001b[39;00m err:\n\u001b[0;32m--> 355\u001b[0m     \u001b[39mraise\u001b[39;00m JSONDecodeError(\u001b[39m\"\u001b[39m\u001b[39mExpecting value\u001b[39m\u001b[39m\"\u001b[39m, s, err\u001b[39m.\u001b[39mvalue) \u001b[39mfrom\u001b[39;00m \u001b[39mNone\u001b[39m\n\u001b[1;32m    356\u001b[0m \u001b[39mreturn\u001b[39;00m obj, end\n",
      "\u001b[0;31mJSONDecodeError\u001b[0m: Expecting value: line 1 column 1 (char 0)"
     ]
    }
   ],
   "source": [
    "dataset_A = extract_for_tag(major_minor_patch_versions)\n",
    "dataset_A.head()"
   ]
  },
  {
   "cell_type": "code",
   "execution_count": 57,
   "id": "8500a388-8c65-4203-81df-156a9425b67e",
   "metadata": {},
   "outputs": [
    {
     "name": "stdout",
     "output_type": "stream",
     "text": [
      "Processing 1.4 (1/14)\r"
     ]
    },
    {
     "name": "stderr",
     "output_type": "stream",
     "text": [
      "fatal: cannot change to '../eucalyptus-copy/': No such file or directory\n",
      "fatal: ambiguous argument '../eucalyptus-copy/': unknown revision or path not in the working tree.\n",
      "Use '--' to separate paths from revisions, like this:\n",
      "'git <command> [<revision>...] -- [<file>...]'\n",
      "fatal: Not a valid object name ../eucalyptus-copy/\n",
      "fatal: not a valid object name: ../eucalyptus-copy/\n",
      "Failed to create tarfile of files from git. at /opt/homebrew/Cellar/cloc/1.96/libexec/bin/cloc line 5246.\n"
     ]
    },
    {
     "ename": "JSONDecodeError",
     "evalue": "Expecting value: line 1 column 1 (char 0)",
     "output_type": "error",
     "traceback": [
      "\u001b[0;31m---------------------------------------------------------------------------\u001b[0m",
      "\u001b[0;31mJSONDecodeError\u001b[0m                           Traceback (most recent call last)",
      "\u001b[1;32m/Users/hugo/MASTER_I/Q2/SOFTWARE_EVOLUTION/TP/LAB2/Software_evolution_TP2_2023/TP2_section2.ipynb Cellule 74\u001b[0m in \u001b[0;36m<cell line: 1>\u001b[0;34m()\u001b[0m\n\u001b[0;32m----> <a href='vscode-notebook-cell:/Users/hugo/MASTER_I/Q2/SOFTWARE_EVOLUTION/TP/LAB2/Software_evolution_TP2_2023/TP2_section2.ipynb#Y132sZmlsZQ%3D%3D?line=0'>1</a>\u001b[0m dataset_B \u001b[39m=\u001b[39m extract_for_tag(major_minor_versions)\n\u001b[1;32m      <a href='vscode-notebook-cell:/Users/hugo/MASTER_I/Q2/SOFTWARE_EVOLUTION/TP/LAB2/Software_evolution_TP2_2023/TP2_section2.ipynb#Y132sZmlsZQ%3D%3D?line=1'>2</a>\u001b[0m dataset_B\u001b[39m.\u001b[39mhead()\n",
      "\u001b[1;32m/Users/hugo/MASTER_I/Q2/SOFTWARE_EVOLUTION/TP/LAB2/Software_evolution_TP2_2023/TP2_section2.ipynb Cellule 74\u001b[0m in \u001b[0;36mextract_for_tag\u001b[0;34m(tags, language)\u001b[0m\n\u001b[1;32m     <a href='vscode-notebook-cell:/Users/hugo/MASTER_I/Q2/SOFTWARE_EVOLUTION/TP/LAB2/Software_evolution_TP2_2023/TP2_section2.ipynb#Y132sZmlsZQ%3D%3D?line=29'>30</a>\u001b[0m diff \u001b[39m=\u001b[39m process\u001b[39m.\u001b[39mcommunicate()[\u001b[39m0\u001b[39m]\u001b[39m.\u001b[39mdecode(\u001b[39m'\u001b[39m\u001b[39mutf-8\u001b[39m\u001b[39m'\u001b[39m)\n\u001b[1;32m     <a href='vscode-notebook-cell:/Users/hugo/MASTER_I/Q2/SOFTWARE_EVOLUTION/TP/LAB2/Software_evolution_TP2_2023/TP2_section2.ipynb#Y132sZmlsZQ%3D%3D?line=31'>32</a>\u001b[0m value \u001b[39m=\u001b[39m {\u001b[39m'\u001b[39m\u001b[39mrelease date\u001b[39m\u001b[39m'\u001b[39m: release_date, \u001b[39m'\u001b[39m\u001b[39mcurrent_tag\u001b[39m\u001b[39m'\u001b[39m: current_tag, \u001b[39m'\u001b[39m\u001b[39mnext_tag\u001b[39m\u001b[39m'\u001b[39m: next_tag}\n\u001b[0;32m---> <a href='vscode-notebook-cell:/Users/hugo/MASTER_I/Q2/SOFTWARE_EVOLUTION/TP/LAB2/Software_evolution_TP2_2023/TP2_section2.ipynb#Y132sZmlsZQ%3D%3D?line=32'>33</a>\u001b[0m \u001b[39mfor\u001b[39;00m key, data \u001b[39min\u001b[39;00m json\u001b[39m.\u001b[39;49mloads(diff)\u001b[39m.\u001b[39mitems():\n\u001b[1;32m     <a href='vscode-notebook-cell:/Users/hugo/MASTER_I/Q2/SOFTWARE_EVOLUTION/TP/LAB2/Software_evolution_TP2_2023/TP2_section2.ipynb#Y132sZmlsZQ%3D%3D?line=33'>34</a>\u001b[0m     \u001b[39mif\u001b[39;00m language \u001b[39min\u001b[39;00m data:\n\u001b[1;32m     <a href='vscode-notebook-cell:/Users/hugo/MASTER_I/Q2/SOFTWARE_EVOLUTION/TP/LAB2/Software_evolution_TP2_2023/TP2_section2.ipynb#Y132sZmlsZQ%3D%3D?line=34'>35</a>\u001b[0m         value[key] \u001b[39m=\u001b[39m data[language][\u001b[39m'\u001b[39m\u001b[39mcode\u001b[39m\u001b[39m'\u001b[39m] \u001b[39m+\u001b[39m data[language][\u001b[39m'\u001b[39m\u001b[39mcomment\u001b[39m\u001b[39m'\u001b[39m] \u001b[39m+\u001b[39m data[language][\u001b[39m'\u001b[39m\u001b[39mblank\u001b[39m\u001b[39m'\u001b[39m]\n",
      "File \u001b[0;32m/Library/Frameworks/Python.framework/Versions/3.10/lib/python3.10/json/__init__.py:346\u001b[0m, in \u001b[0;36mloads\u001b[0;34m(s, cls, object_hook, parse_float, parse_int, parse_constant, object_pairs_hook, **kw)\u001b[0m\n\u001b[1;32m    341\u001b[0m     s \u001b[39m=\u001b[39m s\u001b[39m.\u001b[39mdecode(detect_encoding(s), \u001b[39m'\u001b[39m\u001b[39msurrogatepass\u001b[39m\u001b[39m'\u001b[39m)\n\u001b[1;32m    343\u001b[0m \u001b[39mif\u001b[39;00m (\u001b[39mcls\u001b[39m \u001b[39mis\u001b[39;00m \u001b[39mNone\u001b[39;00m \u001b[39mand\u001b[39;00m object_hook \u001b[39mis\u001b[39;00m \u001b[39mNone\u001b[39;00m \u001b[39mand\u001b[39;00m\n\u001b[1;32m    344\u001b[0m         parse_int \u001b[39mis\u001b[39;00m \u001b[39mNone\u001b[39;00m \u001b[39mand\u001b[39;00m parse_float \u001b[39mis\u001b[39;00m \u001b[39mNone\u001b[39;00m \u001b[39mand\u001b[39;00m\n\u001b[1;32m    345\u001b[0m         parse_constant \u001b[39mis\u001b[39;00m \u001b[39mNone\u001b[39;00m \u001b[39mand\u001b[39;00m object_pairs_hook \u001b[39mis\u001b[39;00m \u001b[39mNone\u001b[39;00m \u001b[39mand\u001b[39;00m \u001b[39mnot\u001b[39;00m kw):\n\u001b[0;32m--> 346\u001b[0m     \u001b[39mreturn\u001b[39;00m _default_decoder\u001b[39m.\u001b[39;49mdecode(s)\n\u001b[1;32m    347\u001b[0m \u001b[39mif\u001b[39;00m \u001b[39mcls\u001b[39m \u001b[39mis\u001b[39;00m \u001b[39mNone\u001b[39;00m:\n\u001b[1;32m    348\u001b[0m     \u001b[39mcls\u001b[39m \u001b[39m=\u001b[39m JSONDecoder\n",
      "File \u001b[0;32m/Library/Frameworks/Python.framework/Versions/3.10/lib/python3.10/json/decoder.py:337\u001b[0m, in \u001b[0;36mJSONDecoder.decode\u001b[0;34m(self, s, _w)\u001b[0m\n\u001b[1;32m    332\u001b[0m \u001b[39mdef\u001b[39;00m \u001b[39mdecode\u001b[39m(\u001b[39mself\u001b[39m, s, _w\u001b[39m=\u001b[39mWHITESPACE\u001b[39m.\u001b[39mmatch):\n\u001b[1;32m    333\u001b[0m     \u001b[39m\"\"\"Return the Python representation of ``s`` (a ``str`` instance\u001b[39;00m\n\u001b[1;32m    334\u001b[0m \u001b[39m    containing a JSON document).\u001b[39;00m\n\u001b[1;32m    335\u001b[0m \n\u001b[1;32m    336\u001b[0m \u001b[39m    \"\"\"\u001b[39;00m\n\u001b[0;32m--> 337\u001b[0m     obj, end \u001b[39m=\u001b[39m \u001b[39mself\u001b[39;49m\u001b[39m.\u001b[39;49mraw_decode(s, idx\u001b[39m=\u001b[39;49m_w(s, \u001b[39m0\u001b[39;49m)\u001b[39m.\u001b[39;49mend())\n\u001b[1;32m    338\u001b[0m     end \u001b[39m=\u001b[39m _w(s, end)\u001b[39m.\u001b[39mend()\n\u001b[1;32m    339\u001b[0m     \u001b[39mif\u001b[39;00m end \u001b[39m!=\u001b[39m \u001b[39mlen\u001b[39m(s):\n",
      "File \u001b[0;32m/Library/Frameworks/Python.framework/Versions/3.10/lib/python3.10/json/decoder.py:355\u001b[0m, in \u001b[0;36mJSONDecoder.raw_decode\u001b[0;34m(self, s, idx)\u001b[0m\n\u001b[1;32m    353\u001b[0m     obj, end \u001b[39m=\u001b[39m \u001b[39mself\u001b[39m\u001b[39m.\u001b[39mscan_once(s, idx)\n\u001b[1;32m    354\u001b[0m \u001b[39mexcept\u001b[39;00m \u001b[39mStopIteration\u001b[39;00m \u001b[39mas\u001b[39;00m err:\n\u001b[0;32m--> 355\u001b[0m     \u001b[39mraise\u001b[39;00m JSONDecodeError(\u001b[39m\"\u001b[39m\u001b[39mExpecting value\u001b[39m\u001b[39m\"\u001b[39m, s, err\u001b[39m.\u001b[39mvalue) \u001b[39mfrom\u001b[39;00m \u001b[39mNone\u001b[39m\n\u001b[1;32m    356\u001b[0m \u001b[39mreturn\u001b[39;00m obj, end\n",
      "\u001b[0;31mJSONDecodeError\u001b[0m: Expecting value: line 1 column 1 (char 0)"
     ]
    }
   ],
   "source": [
    "dataset_B = extract_for_tag(major_minor_versions)\n",
    "dataset_B.head()"
   ]
  },
  {
   "cell_type": "code",
   "execution_count": null,
   "id": "9505d1a0-2c0d-470a-b545-95680be092f4",
   "metadata": {},
   "outputs": [],
   "source": [
    "# Your plotting code here, different plot for each feature\n",
    "fig,axes = plt.subplots(2,2)"
   ]
  },
  {
   "cell_type": "markdown",
   "id": "a96114cb-aafb-4c57-8bff-af5d309b1994",
   "metadata": {},
   "source": [
    "### Questions:\n",
    "1. Do you find the Law of Continuing Change holding good here? Prove it empirically."
   ]
  },
  {
   "cell_type": "markdown",
   "id": "131fe261-c978-434d-824f-f6e416fb6110",
   "metadata": {},
   "source": []
  },
  {
   "cell_type": "markdown",
   "id": "dd5ee600-da8e-431d-9028-fc3fc3d9f97e",
   "metadata": {},
   "source": [
    "2. Does the law of increasing growth too hold good here?"
   ]
  },
  {
   "cell_type": "markdown",
   "id": "7fe9e863-19a3-4f53-b50e-b8f065615839",
   "metadata": {},
   "source": []
  },
  {
   "cell_type": "markdown",
   "id": "ce62cb54-5d8f-4e65-a50b-b12cd9f6e362",
   "metadata": {},
   "source": [
    "### Law of continuing change for coding languages\n",
    "Consider the prominent languages used in this software project for versions of the form major.minor.patch\n",
    "1. Obtain the number of lines of code that are added, modified, removed and same between two consecutive versions\n",
    "2. Make plots for each parameter (added, modified, removed and same) with date on x-axis  \n",
    "    a) y-axis number of lines of code   \n",
    "    b) y-axis proportional number of lines of code (number of lines of code of that language/total number of lines of code) "
   ]
  },
  {
   "cell_type": "code",
   "execution_count": null,
   "id": "9707b16c-abb1-4ef8-bd77-af85711cd624",
   "metadata": {},
   "outputs": [],
   "source": [
    "# Your code here"
   ]
  },
  {
   "cell_type": "code",
   "execution_count": null,
   "id": "aaf138ba-8d1e-498a-ac34-17c05c1b0b16",
   "metadata": {},
   "outputs": [],
   "source": [
    "# Your plotting code here\n",
    "fig,axes = plt.subplots(2,2)"
   ]
  },
  {
   "cell_type": "markdown",
   "id": "b4297222-6881-4cc5-a335-c707c3c3c0c1",
   "metadata": {},
   "source": [
    "### Question:\n",
    "3. Does the law of continuing change obey here for all the considered prominent langugages? Comment on the rate of growth.  "
   ]
  },
  {
   "cell_type": "markdown",
   "id": "ae7d089a-2bb5-4a18-a6d4-5919fe73a8d9",
   "metadata": {},
   "source": []
  },
  {
   "cell_type": "markdown",
   "id": "ea29d2e5-7f12-46c4-baad-e4abe3406e9f",
   "metadata": {},
   "source": [
    "4. Does this software project obey Law of Continuing Change?"
   ]
  },
  {
   "cell_type": "markdown",
   "id": "0fe3765f-2f31-4ecc-96cf-991cdb610a14",
   "metadata": {},
   "source": []
  },
  {
   "cell_type": "code",
   "execution_count": null,
   "id": "46b3a214-86cd-4f91-9f1c-ca31089a3c21",
   "metadata": {},
   "outputs": [],
   "source": []
  }
 ],
 "metadata": {
  "kernelspec": {
   "display_name": "Python 3",
   "language": "python",
   "name": "python3"
  },
  "language_info": {
   "codemirror_mode": {
    "name": "ipython",
    "version": 3
   },
   "file_extension": ".py",
   "mimetype": "text/x-python",
   "name": "python",
   "nbconvert_exporter": "python",
   "pygments_lexer": "ipython3",
   "version": "3.10.4"
  },
  "vscode": {
   "interpreter": {
    "hash": "aee8b7b246df8f9039afb4144a1f6fd8d2ca17a180786b69acc140d282b71a49"
   }
  }
 },
 "nbformat": 4,
 "nbformat_minor": 5
}
